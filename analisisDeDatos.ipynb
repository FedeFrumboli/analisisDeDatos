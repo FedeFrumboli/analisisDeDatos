{
  "nbformat": 4,
  "nbformat_minor": 0,
  "metadata": {
    "colab": {
      "name": "Clase3_LUMCA_analisisDeDatos.ipynb",
      "provenance": [],
      "collapsed_sections": []
    },
    "kernelspec": {
      "name": "python3",
      "display_name": "Python 3"
    },
    "language_info": {
      "name": "python"
    }
  },
  "cells": [
    {
      "cell_type": "code",
      "metadata": {
        "id": "iw4Yf0GBMbi4"
      },
      "source": [
        "# Datos de nuestra cuenta de drive\n",
        "from google.colab import drive"
      ],
      "execution_count": null,
      "outputs": []
    },
    {
      "cell_type": "code",
      "metadata": {
        "colab": {
          "base_uri": "https://localhost:8080/"
        },
        "id": "diD40HvzMwCk",
        "outputId": "85109039-c2be-45f0-bc63-70128d9e3060"
      },
      "source": [
        "drive.mount('/drive/')"
      ],
      "execution_count": null,
      "outputs": [
        {
          "output_type": "stream",
          "name": "stdout",
          "text": [
            "Mounted at /drive/\n"
          ]
        }
      ]
    },
    {
      "cell_type": "code",
      "metadata": {
        "id": "QtVfLG_SPJlC"
      },
      "source": [
        "#Pandas\n",
        "import pandas as pd"
      ],
      "execution_count": null,
      "outputs": []
    },
    {
      "cell_type": "code",
      "metadata": {
        "id": "zXzhIDOpbJBu"
      },
      "source": [
        "turnos = pd.read_csv(\"/drive/MyDrive/Datos_Para_Clases/dataset_turnos_detalle.csv\")"
      ],
      "execution_count": null,
      "outputs": []
    },
    {
      "cell_type": "code",
      "metadata": {
        "colab": {
          "base_uri": "https://localhost:8080/",
          "height": 419
        },
        "id": "iWYDEbynhbzb",
        "outputId": "e2892570-4987-4ef2-ba6c-779ca22ab8af"
      },
      "source": [
        "turnos"
      ],
      "execution_count": null,
      "outputs": [
        {
          "output_type": "execute_result",
          "data": {
            "text/html": [
              "<div>\n",
              "<style scoped>\n",
              "    .dataframe tbody tr th:only-of-type {\n",
              "        vertical-align: middle;\n",
              "    }\n",
              "\n",
              "    .dataframe tbody tr th {\n",
              "        vertical-align: top;\n",
              "    }\n",
              "\n",
              "    .dataframe thead th {\n",
              "        text-align: right;\n",
              "    }\n",
              "</style>\n",
              "<table border=\"1\" class=\"dataframe\">\n",
              "  <thead>\n",
              "    <tr style=\"text-align: right;\">\n",
              "      <th></th>\n",
              "      <th>genero</th>\n",
              "      <th>sede</th>\n",
              "      <th>servicio</th>\n",
              "      <th>fecha_cita</th>\n",
              "    </tr>\n",
              "  </thead>\n",
              "  <tbody>\n",
              "    <tr>\n",
              "      <th>0</th>\n",
              "      <td>MASCULINO</td>\n",
              "      <td>Centro Islámico</td>\n",
              "      <td>Adultos Mayores de 80 años</td>\n",
              "      <td>01MAR2021:11:15:00</td>\n",
              "    </tr>\n",
              "    <tr>\n",
              "      <th>1</th>\n",
              "      <td>MASCULINO</td>\n",
              "      <td>Club Ferro</td>\n",
              "      <td>Adultos Mayores de 80 años</td>\n",
              "      <td>02MAR2021:09:00:00</td>\n",
              "    </tr>\n",
              "    <tr>\n",
              "      <th>2</th>\n",
              "      <td>FEMENINO</td>\n",
              "      <td>La Rural</td>\n",
              "      <td>Adultos Mayores de 80 años</td>\n",
              "      <td>01MAR2021:13:30:00</td>\n",
              "    </tr>\n",
              "    <tr>\n",
              "      <th>3</th>\n",
              "      <td>MASCULINO</td>\n",
              "      <td>Centro de día Parque Chacabuco</td>\n",
              "      <td>Adultos Mayores de 80 años</td>\n",
              "      <td>25FEB2021:13:00:00</td>\n",
              "    </tr>\n",
              "    <tr>\n",
              "      <th>4</th>\n",
              "      <td>FEMENINO</td>\n",
              "      <td>Centro C. Recoleta</td>\n",
              "      <td>Adultos Mayores de 80 años</td>\n",
              "      <td>01MAR2021:13:30:00</td>\n",
              "    </tr>\n",
              "    <tr>\n",
              "      <th>...</th>\n",
              "      <td>...</td>\n",
              "      <td>...</td>\n",
              "      <td>...</td>\n",
              "      <td>...</td>\n",
              "    </tr>\n",
              "    <tr>\n",
              "      <th>1925040</th>\n",
              "      <td>FEMENINO</td>\n",
              "      <td>Casa del Historiador</td>\n",
              "      <td>Adultos Mayores de 80 años</td>\n",
              "      <td>23FEB2021:15:45:00</td>\n",
              "    </tr>\n",
              "    <tr>\n",
              "      <th>1925041</th>\n",
              "      <td>MASCULINO</td>\n",
              "      <td>La Rural</td>\n",
              "      <td>Adultos Mayores de 80 años</td>\n",
              "      <td>02MAR2021:15:00:00</td>\n",
              "    </tr>\n",
              "    <tr>\n",
              "      <th>1925042</th>\n",
              "      <td>FEMENINO</td>\n",
              "      <td>Club Glorias Argentinas</td>\n",
              "      <td>Adultos Mayores de 80 años</td>\n",
              "      <td>25FEB2021:13:30:00</td>\n",
              "    </tr>\n",
              "    <tr>\n",
              "      <th>1925043</th>\n",
              "      <td>MASCULINO</td>\n",
              "      <td>Centro de Dia N9 y 13</td>\n",
              "      <td>Adultos Mayores de 80 años</td>\n",
              "      <td>25FEB2021:08:15:00</td>\n",
              "    </tr>\n",
              "    <tr>\n",
              "      <th>1925044</th>\n",
              "      <td>FEMENINO</td>\n",
              "      <td>Club San Lorenzo</td>\n",
              "      <td>Adultos Mayores de 80 años</td>\n",
              "      <td>26FEB2021:11:30:00</td>\n",
              "    </tr>\n",
              "  </tbody>\n",
              "</table>\n",
              "<p>1925045 rows × 4 columns</p>\n",
              "</div>"
            ],
            "text/plain": [
              "            genero  ...          fecha_cita\n",
              "0        MASCULINO  ...  01MAR2021:11:15:00\n",
              "1        MASCULINO  ...  02MAR2021:09:00:00\n",
              "2         FEMENINO  ...  01MAR2021:13:30:00\n",
              "3        MASCULINO  ...  25FEB2021:13:00:00\n",
              "4         FEMENINO  ...  01MAR2021:13:30:00\n",
              "...            ...  ...                 ...\n",
              "1925040   FEMENINO  ...  23FEB2021:15:45:00\n",
              "1925041  MASCULINO  ...  02MAR2021:15:00:00\n",
              "1925042   FEMENINO  ...  25FEB2021:13:30:00\n",
              "1925043  MASCULINO  ...  25FEB2021:08:15:00\n",
              "1925044   FEMENINO  ...  26FEB2021:11:30:00\n",
              "\n",
              "[1925045 rows x 4 columns]"
            ]
          },
          "metadata": {},
          "execution_count": 5
        }
      ]
    },
    {
      "cell_type": "code",
      "metadata": {
        "colab": {
          "base_uri": "https://localhost:8080/"
        },
        "id": "UcX2SS7-hoAS",
        "outputId": "334c1844-2ea6-4c1f-a44d-632892bd8e9f"
      },
      "source": [
        "turnos.columns"
      ],
      "execution_count": null,
      "outputs": [
        {
          "output_type": "execute_result",
          "data": {
            "text/plain": [
              "Index(['genero', 'sede', 'servicio', 'fecha_cita'], dtype='object')"
            ]
          },
          "metadata": {},
          "execution_count": 6
        }
      ]
    },
    {
      "cell_type": "code",
      "metadata": {
        "id": "8Ch_aopihqDG"
      },
      "source": [
        "turnos.rename(columns = {'fecha_cita':'fecha'}, inplace=True)"
      ],
      "execution_count": null,
      "outputs": []
    },
    {
      "cell_type": "code",
      "metadata": {
        "colab": {
          "base_uri": "https://localhost:8080/"
        },
        "id": "Tk0B5D0HiQn8",
        "outputId": "67a1e437-4209-4f62-fbe2-bff89a748311"
      },
      "source": [
        "turnos['sede']"
      ],
      "execution_count": null,
      "outputs": [
        {
          "output_type": "execute_result",
          "data": {
            "text/plain": [
              "0                         Centro Islámico\n",
              "1                              Club Ferro\n",
              "2                                La Rural\n",
              "3          Centro de día Parque Chacabuco\n",
              "4                      Centro C. Recoleta\n",
              "                        ...              \n",
              "1925040              Casa del Historiador\n",
              "1925041                          La Rural\n",
              "1925042           Club Glorias Argentinas\n",
              "1925043             Centro de Dia N9 y 13\n",
              "1925044                  Club San Lorenzo\n",
              "Name: sede, Length: 1925045, dtype: object"
            ]
          },
          "metadata": {},
          "execution_count": 8
        }
      ]
    },
    {
      "cell_type": "code",
      "metadata": {
        "colab": {
          "base_uri": "https://localhost:8080/"
        },
        "id": "xU9MBM4SiYKv",
        "outputId": "25c53a00-76c7-4c0a-fed9-80f723db27dd"
      },
      "source": [
        "turnos['sede'].value_counts().head(5)"
      ],
      "execution_count": null,
      "outputs": [
        {
          "output_type": "execute_result",
          "data": {
            "text/plain": [
              "Club San Lorenzo     264616\n",
              "La Rural             215748\n",
              "Estadio Luna Park    196126\n",
              "Parque Roca          181980\n",
              "Club River Plate     142751\n",
              "Name: sede, dtype: int64"
            ]
          },
          "metadata": {},
          "execution_count": 9
        }
      ]
    },
    {
      "cell_type": "code",
      "metadata": {
        "colab": {
          "base_uri": "https://localhost:8080/"
        },
        "id": "3cojKfk1i1cN",
        "outputId": "05cd15e3-c0d4-4676-f1a3-a96842da22f6"
      },
      "source": [
        "turnos['sede'].value_counts(normalize = True).head(5) * 100"
      ],
      "execution_count": null,
      "outputs": [
        {
          "output_type": "execute_result",
          "data": {
            "text/plain": [
              "Club San Lorenzo     13.745964\n",
              "La Rural             11.207426\n",
              "Estadio Luna Park    10.188125\n",
              "Parque Roca           9.453286\n",
              "Club River Plate      7.415463\n",
              "Name: sede, dtype: float64"
            ]
          },
          "metadata": {},
          "execution_count": 10
        }
      ]
    },
    {
      "cell_type": "code",
      "metadata": {
        "id": "NBqdftNWjVra"
      },
      "source": [
        "#_______________________________________________________________________________\n",
        "# comando LOC (filtrar por filas y columnas)\n",
        "# 1er paso, definir un nuevo indice (alguna de las columnas)\n",
        "turnos.set_index('genero', inplace = True)"
      ],
      "execution_count": null,
      "outputs": []
    },
    {
      "cell_type": "code",
      "metadata": {
        "colab": {
          "base_uri": "https://localhost:8080/",
          "height": 450
        },
        "id": "rFobFC1Wj603",
        "outputId": "bc4ab365-a38f-44f1-e477-71251a7c4698"
      },
      "source": [
        "turnos"
      ],
      "execution_count": null,
      "outputs": [
        {
          "output_type": "execute_result",
          "data": {
            "text/html": [
              "<div>\n",
              "<style scoped>\n",
              "    .dataframe tbody tr th:only-of-type {\n",
              "        vertical-align: middle;\n",
              "    }\n",
              "\n",
              "    .dataframe tbody tr th {\n",
              "        vertical-align: top;\n",
              "    }\n",
              "\n",
              "    .dataframe thead th {\n",
              "        text-align: right;\n",
              "    }\n",
              "</style>\n",
              "<table border=\"1\" class=\"dataframe\">\n",
              "  <thead>\n",
              "    <tr style=\"text-align: right;\">\n",
              "      <th></th>\n",
              "      <th>sede</th>\n",
              "      <th>servicio</th>\n",
              "      <th>fecha</th>\n",
              "    </tr>\n",
              "    <tr>\n",
              "      <th>genero</th>\n",
              "      <th></th>\n",
              "      <th></th>\n",
              "      <th></th>\n",
              "    </tr>\n",
              "  </thead>\n",
              "  <tbody>\n",
              "    <tr>\n",
              "      <th>MASCULINO</th>\n",
              "      <td>Centro Islámico</td>\n",
              "      <td>Adultos Mayores de 80 años</td>\n",
              "      <td>01MAR2021:11:15:00</td>\n",
              "    </tr>\n",
              "    <tr>\n",
              "      <th>MASCULINO</th>\n",
              "      <td>Club Ferro</td>\n",
              "      <td>Adultos Mayores de 80 años</td>\n",
              "      <td>02MAR2021:09:00:00</td>\n",
              "    </tr>\n",
              "    <tr>\n",
              "      <th>FEMENINO</th>\n",
              "      <td>La Rural</td>\n",
              "      <td>Adultos Mayores de 80 años</td>\n",
              "      <td>01MAR2021:13:30:00</td>\n",
              "    </tr>\n",
              "    <tr>\n",
              "      <th>MASCULINO</th>\n",
              "      <td>Centro de día Parque Chacabuco</td>\n",
              "      <td>Adultos Mayores de 80 años</td>\n",
              "      <td>25FEB2021:13:00:00</td>\n",
              "    </tr>\n",
              "    <tr>\n",
              "      <th>FEMENINO</th>\n",
              "      <td>Centro C. Recoleta</td>\n",
              "      <td>Adultos Mayores de 80 años</td>\n",
              "      <td>01MAR2021:13:30:00</td>\n",
              "    </tr>\n",
              "    <tr>\n",
              "      <th>...</th>\n",
              "      <td>...</td>\n",
              "      <td>...</td>\n",
              "      <td>...</td>\n",
              "    </tr>\n",
              "    <tr>\n",
              "      <th>FEMENINO</th>\n",
              "      <td>Casa del Historiador</td>\n",
              "      <td>Adultos Mayores de 80 años</td>\n",
              "      <td>23FEB2021:15:45:00</td>\n",
              "    </tr>\n",
              "    <tr>\n",
              "      <th>MASCULINO</th>\n",
              "      <td>La Rural</td>\n",
              "      <td>Adultos Mayores de 80 años</td>\n",
              "      <td>02MAR2021:15:00:00</td>\n",
              "    </tr>\n",
              "    <tr>\n",
              "      <th>FEMENINO</th>\n",
              "      <td>Club Glorias Argentinas</td>\n",
              "      <td>Adultos Mayores de 80 años</td>\n",
              "      <td>25FEB2021:13:30:00</td>\n",
              "    </tr>\n",
              "    <tr>\n",
              "      <th>MASCULINO</th>\n",
              "      <td>Centro de Dia N9 y 13</td>\n",
              "      <td>Adultos Mayores de 80 años</td>\n",
              "      <td>25FEB2021:08:15:00</td>\n",
              "    </tr>\n",
              "    <tr>\n",
              "      <th>FEMENINO</th>\n",
              "      <td>Club San Lorenzo</td>\n",
              "      <td>Adultos Mayores de 80 años</td>\n",
              "      <td>26FEB2021:11:30:00</td>\n",
              "    </tr>\n",
              "  </tbody>\n",
              "</table>\n",
              "<p>1925045 rows × 3 columns</p>\n",
              "</div>"
            ],
            "text/plain": [
              "                                     sede  ...               fecha\n",
              "genero                                     ...                    \n",
              "MASCULINO                 Centro Islámico  ...  01MAR2021:11:15:00\n",
              "MASCULINO                      Club Ferro  ...  02MAR2021:09:00:00\n",
              "FEMENINO                         La Rural  ...  01MAR2021:13:30:00\n",
              "MASCULINO  Centro de día Parque Chacabuco  ...  25FEB2021:13:00:00\n",
              "FEMENINO               Centro C. Recoleta  ...  01MAR2021:13:30:00\n",
              "...                                   ...  ...                 ...\n",
              "FEMENINO             Casa del Historiador  ...  23FEB2021:15:45:00\n",
              "MASCULINO                        La Rural  ...  02MAR2021:15:00:00\n",
              "FEMENINO          Club Glorias Argentinas  ...  25FEB2021:13:30:00\n",
              "MASCULINO           Centro de Dia N9 y 13  ...  25FEB2021:08:15:00\n",
              "FEMENINO                 Club San Lorenzo  ...  26FEB2021:11:30:00\n",
              "\n",
              "[1925045 rows x 3 columns]"
            ]
          },
          "metadata": {},
          "execution_count": 12
        }
      ]
    },
    {
      "cell_type": "code",
      "metadata": {
        "colab": {
          "base_uri": "https://localhost:8080/",
          "height": 450
        },
        "id": "skNlPt0hkFDf",
        "outputId": "00927046-ac31-402b-da2d-b5670267c66e"
      },
      "source": [
        "# 2do paso, elijo fila (para filtrar)\n",
        "turnos.loc['MASCULINO']"
      ],
      "execution_count": null,
      "outputs": [
        {
          "output_type": "execute_result",
          "data": {
            "text/html": [
              "<div>\n",
              "<style scoped>\n",
              "    .dataframe tbody tr th:only-of-type {\n",
              "        vertical-align: middle;\n",
              "    }\n",
              "\n",
              "    .dataframe tbody tr th {\n",
              "        vertical-align: top;\n",
              "    }\n",
              "\n",
              "    .dataframe thead th {\n",
              "        text-align: right;\n",
              "    }\n",
              "</style>\n",
              "<table border=\"1\" class=\"dataframe\">\n",
              "  <thead>\n",
              "    <tr style=\"text-align: right;\">\n",
              "      <th></th>\n",
              "      <th>sede</th>\n",
              "      <th>servicio</th>\n",
              "      <th>fecha</th>\n",
              "    </tr>\n",
              "    <tr>\n",
              "      <th>genero</th>\n",
              "      <th></th>\n",
              "      <th></th>\n",
              "      <th></th>\n",
              "    </tr>\n",
              "  </thead>\n",
              "  <tbody>\n",
              "    <tr>\n",
              "      <th>MASCULINO</th>\n",
              "      <td>Centro Islámico</td>\n",
              "      <td>Adultos Mayores de 80 años</td>\n",
              "      <td>01MAR2021:11:15:00</td>\n",
              "    </tr>\n",
              "    <tr>\n",
              "      <th>MASCULINO</th>\n",
              "      <td>Club Ferro</td>\n",
              "      <td>Adultos Mayores de 80 años</td>\n",
              "      <td>02MAR2021:09:00:00</td>\n",
              "    </tr>\n",
              "    <tr>\n",
              "      <th>MASCULINO</th>\n",
              "      <td>Centro de día Parque Chacabuco</td>\n",
              "      <td>Adultos Mayores de 80 años</td>\n",
              "      <td>25FEB2021:13:00:00</td>\n",
              "    </tr>\n",
              "    <tr>\n",
              "      <th>MASCULINO</th>\n",
              "      <td>Centro C. Recoleta</td>\n",
              "      <td>Adultos Mayores de 80 años</td>\n",
              "      <td>01MAR2021:09:30:00</td>\n",
              "    </tr>\n",
              "    <tr>\n",
              "      <th>MASCULINO</th>\n",
              "      <td>Centro Cultural El Adan</td>\n",
              "      <td>Adultos Mayores de 80 años</td>\n",
              "      <td>24FEB2021:14:15:00</td>\n",
              "    </tr>\n",
              "    <tr>\n",
              "      <th>...</th>\n",
              "      <td>...</td>\n",
              "      <td>...</td>\n",
              "      <td>...</td>\n",
              "    </tr>\n",
              "    <tr>\n",
              "      <th>MASCULINO</th>\n",
              "      <td>Club Comunicaciones</td>\n",
              "      <td>Adultos Mayores de 80 años</td>\n",
              "      <td>01MAR2021:09:00:00</td>\n",
              "    </tr>\n",
              "    <tr>\n",
              "      <th>MASCULINO</th>\n",
              "      <td>Centro Cultural El Adan</td>\n",
              "      <td>Adultos Mayores de 80 años</td>\n",
              "      <td>25FEB2021:15:30:00</td>\n",
              "    </tr>\n",
              "    <tr>\n",
              "      <th>MASCULINO</th>\n",
              "      <td>Usina del Arte</td>\n",
              "      <td>Adultos Mayores de 80 años</td>\n",
              "      <td>24FEB2021:12:15:00</td>\n",
              "    </tr>\n",
              "    <tr>\n",
              "      <th>MASCULINO</th>\n",
              "      <td>La Rural</td>\n",
              "      <td>Adultos Mayores de 80 años</td>\n",
              "      <td>02MAR2021:15:00:00</td>\n",
              "    </tr>\n",
              "    <tr>\n",
              "      <th>MASCULINO</th>\n",
              "      <td>Centro de Dia N9 y 13</td>\n",
              "      <td>Adultos Mayores de 80 años</td>\n",
              "      <td>25FEB2021:08:15:00</td>\n",
              "    </tr>\n",
              "  </tbody>\n",
              "</table>\n",
              "<p>789670 rows × 3 columns</p>\n",
              "</div>"
            ],
            "text/plain": [
              "                                     sede  ...               fecha\n",
              "genero                                     ...                    \n",
              "MASCULINO                 Centro Islámico  ...  01MAR2021:11:15:00\n",
              "MASCULINO                      Club Ferro  ...  02MAR2021:09:00:00\n",
              "MASCULINO  Centro de día Parque Chacabuco  ...  25FEB2021:13:00:00\n",
              "MASCULINO              Centro C. Recoleta  ...  01MAR2021:09:30:00\n",
              "MASCULINO         Centro Cultural El Adan  ...  24FEB2021:14:15:00\n",
              "...                                   ...  ...                 ...\n",
              "MASCULINO             Club Comunicaciones  ...  01MAR2021:09:00:00\n",
              "MASCULINO         Centro Cultural El Adan  ...  25FEB2021:15:30:00\n",
              "MASCULINO                  Usina del Arte  ...  24FEB2021:12:15:00\n",
              "MASCULINO                        La Rural  ...  02MAR2021:15:00:00\n",
              "MASCULINO           Centro de Dia N9 y 13  ...  25FEB2021:08:15:00\n",
              "\n",
              "[789670 rows x 3 columns]"
            ]
          },
          "metadata": {},
          "execution_count": 13
        }
      ]
    },
    {
      "cell_type": "code",
      "metadata": {
        "id": "0LixCi30kZnG"
      },
      "source": [
        "#_______________________________\n",
        "# Defino un nuevo indice\n",
        "# (para definir un nuevo indice, primero hay que resetear el index de turnos)\n",
        "turnos.reset_index(inplace = True)"
      ],
      "execution_count": null,
      "outputs": []
    },
    {
      "cell_type": "code",
      "metadata": {
        "colab": {
          "base_uri": "https://localhost:8080/",
          "height": 419
        },
        "id": "X7LjwUuelB7N",
        "outputId": "c866b5a3-4cad-4ef5-eb6e-e1f04dd8894c"
      },
      "source": [
        "turnos"
      ],
      "execution_count": null,
      "outputs": [
        {
          "output_type": "execute_result",
          "data": {
            "text/html": [
              "<div>\n",
              "<style scoped>\n",
              "    .dataframe tbody tr th:only-of-type {\n",
              "        vertical-align: middle;\n",
              "    }\n",
              "\n",
              "    .dataframe tbody tr th {\n",
              "        vertical-align: top;\n",
              "    }\n",
              "\n",
              "    .dataframe thead th {\n",
              "        text-align: right;\n",
              "    }\n",
              "</style>\n",
              "<table border=\"1\" class=\"dataframe\">\n",
              "  <thead>\n",
              "    <tr style=\"text-align: right;\">\n",
              "      <th></th>\n",
              "      <th>genero</th>\n",
              "      <th>sede</th>\n",
              "      <th>servicio</th>\n",
              "      <th>fecha</th>\n",
              "    </tr>\n",
              "  </thead>\n",
              "  <tbody>\n",
              "    <tr>\n",
              "      <th>0</th>\n",
              "      <td>MASCULINO</td>\n",
              "      <td>Centro Islámico</td>\n",
              "      <td>Adultos Mayores de 80 años</td>\n",
              "      <td>01MAR2021:11:15:00</td>\n",
              "    </tr>\n",
              "    <tr>\n",
              "      <th>1</th>\n",
              "      <td>MASCULINO</td>\n",
              "      <td>Club Ferro</td>\n",
              "      <td>Adultos Mayores de 80 años</td>\n",
              "      <td>02MAR2021:09:00:00</td>\n",
              "    </tr>\n",
              "    <tr>\n",
              "      <th>2</th>\n",
              "      <td>FEMENINO</td>\n",
              "      <td>La Rural</td>\n",
              "      <td>Adultos Mayores de 80 años</td>\n",
              "      <td>01MAR2021:13:30:00</td>\n",
              "    </tr>\n",
              "    <tr>\n",
              "      <th>3</th>\n",
              "      <td>MASCULINO</td>\n",
              "      <td>Centro de día Parque Chacabuco</td>\n",
              "      <td>Adultos Mayores de 80 años</td>\n",
              "      <td>25FEB2021:13:00:00</td>\n",
              "    </tr>\n",
              "    <tr>\n",
              "      <th>4</th>\n",
              "      <td>FEMENINO</td>\n",
              "      <td>Centro C. Recoleta</td>\n",
              "      <td>Adultos Mayores de 80 años</td>\n",
              "      <td>01MAR2021:13:30:00</td>\n",
              "    </tr>\n",
              "    <tr>\n",
              "      <th>...</th>\n",
              "      <td>...</td>\n",
              "      <td>...</td>\n",
              "      <td>...</td>\n",
              "      <td>...</td>\n",
              "    </tr>\n",
              "    <tr>\n",
              "      <th>1925040</th>\n",
              "      <td>FEMENINO</td>\n",
              "      <td>Casa del Historiador</td>\n",
              "      <td>Adultos Mayores de 80 años</td>\n",
              "      <td>23FEB2021:15:45:00</td>\n",
              "    </tr>\n",
              "    <tr>\n",
              "      <th>1925041</th>\n",
              "      <td>MASCULINO</td>\n",
              "      <td>La Rural</td>\n",
              "      <td>Adultos Mayores de 80 años</td>\n",
              "      <td>02MAR2021:15:00:00</td>\n",
              "    </tr>\n",
              "    <tr>\n",
              "      <th>1925042</th>\n",
              "      <td>FEMENINO</td>\n",
              "      <td>Club Glorias Argentinas</td>\n",
              "      <td>Adultos Mayores de 80 años</td>\n",
              "      <td>25FEB2021:13:30:00</td>\n",
              "    </tr>\n",
              "    <tr>\n",
              "      <th>1925043</th>\n",
              "      <td>MASCULINO</td>\n",
              "      <td>Centro de Dia N9 y 13</td>\n",
              "      <td>Adultos Mayores de 80 años</td>\n",
              "      <td>25FEB2021:08:15:00</td>\n",
              "    </tr>\n",
              "    <tr>\n",
              "      <th>1925044</th>\n",
              "      <td>FEMENINO</td>\n",
              "      <td>Club San Lorenzo</td>\n",
              "      <td>Adultos Mayores de 80 años</td>\n",
              "      <td>26FEB2021:11:30:00</td>\n",
              "    </tr>\n",
              "  </tbody>\n",
              "</table>\n",
              "<p>1925045 rows × 4 columns</p>\n",
              "</div>"
            ],
            "text/plain": [
              "            genero  ...               fecha\n",
              "0        MASCULINO  ...  01MAR2021:11:15:00\n",
              "1        MASCULINO  ...  02MAR2021:09:00:00\n",
              "2         FEMENINO  ...  01MAR2021:13:30:00\n",
              "3        MASCULINO  ...  25FEB2021:13:00:00\n",
              "4         FEMENINO  ...  01MAR2021:13:30:00\n",
              "...            ...  ...                 ...\n",
              "1925040   FEMENINO  ...  23FEB2021:15:45:00\n",
              "1925041  MASCULINO  ...  02MAR2021:15:00:00\n",
              "1925042   FEMENINO  ...  25FEB2021:13:30:00\n",
              "1925043  MASCULINO  ...  25FEB2021:08:15:00\n",
              "1925044   FEMENINO  ...  26FEB2021:11:30:00\n",
              "\n",
              "[1925045 rows x 4 columns]"
            ]
          },
          "metadata": {},
          "execution_count": 15
        }
      ]
    },
    {
      "cell_type": "code",
      "metadata": {
        "id": "jMx1gcGYlEDD"
      },
      "source": [
        "# Ahora si, defino un nuevo indice, en este caso 'sede'\n",
        "turnos.set_index('sede', inplace = True)"
      ],
      "execution_count": null,
      "outputs": []
    },
    {
      "cell_type": "code",
      "metadata": {
        "colab": {
          "base_uri": "https://localhost:8080/",
          "height": 450
        },
        "id": "AArBVczmlKoS",
        "outputId": "fcd0d75e-712f-4241-ab66-472562149ee7"
      },
      "source": [
        "turnos"
      ],
      "execution_count": null,
      "outputs": [
        {
          "output_type": "execute_result",
          "data": {
            "text/html": [
              "<div>\n",
              "<style scoped>\n",
              "    .dataframe tbody tr th:only-of-type {\n",
              "        vertical-align: middle;\n",
              "    }\n",
              "\n",
              "    .dataframe tbody tr th {\n",
              "        vertical-align: top;\n",
              "    }\n",
              "\n",
              "    .dataframe thead th {\n",
              "        text-align: right;\n",
              "    }\n",
              "</style>\n",
              "<table border=\"1\" class=\"dataframe\">\n",
              "  <thead>\n",
              "    <tr style=\"text-align: right;\">\n",
              "      <th></th>\n",
              "      <th>genero</th>\n",
              "      <th>servicio</th>\n",
              "      <th>fecha</th>\n",
              "    </tr>\n",
              "    <tr>\n",
              "      <th>sede</th>\n",
              "      <th></th>\n",
              "      <th></th>\n",
              "      <th></th>\n",
              "    </tr>\n",
              "  </thead>\n",
              "  <tbody>\n",
              "    <tr>\n",
              "      <th>Centro Islámico</th>\n",
              "      <td>MASCULINO</td>\n",
              "      <td>Adultos Mayores de 80 años</td>\n",
              "      <td>01MAR2021:11:15:00</td>\n",
              "    </tr>\n",
              "    <tr>\n",
              "      <th>Club Ferro</th>\n",
              "      <td>MASCULINO</td>\n",
              "      <td>Adultos Mayores de 80 años</td>\n",
              "      <td>02MAR2021:09:00:00</td>\n",
              "    </tr>\n",
              "    <tr>\n",
              "      <th>La Rural</th>\n",
              "      <td>FEMENINO</td>\n",
              "      <td>Adultos Mayores de 80 años</td>\n",
              "      <td>01MAR2021:13:30:00</td>\n",
              "    </tr>\n",
              "    <tr>\n",
              "      <th>Centro de día Parque Chacabuco</th>\n",
              "      <td>MASCULINO</td>\n",
              "      <td>Adultos Mayores de 80 años</td>\n",
              "      <td>25FEB2021:13:00:00</td>\n",
              "    </tr>\n",
              "    <tr>\n",
              "      <th>Centro C. Recoleta</th>\n",
              "      <td>FEMENINO</td>\n",
              "      <td>Adultos Mayores de 80 años</td>\n",
              "      <td>01MAR2021:13:30:00</td>\n",
              "    </tr>\n",
              "    <tr>\n",
              "      <th>...</th>\n",
              "      <td>...</td>\n",
              "      <td>...</td>\n",
              "      <td>...</td>\n",
              "    </tr>\n",
              "    <tr>\n",
              "      <th>Casa del Historiador</th>\n",
              "      <td>FEMENINO</td>\n",
              "      <td>Adultos Mayores de 80 años</td>\n",
              "      <td>23FEB2021:15:45:00</td>\n",
              "    </tr>\n",
              "    <tr>\n",
              "      <th>La Rural</th>\n",
              "      <td>MASCULINO</td>\n",
              "      <td>Adultos Mayores de 80 años</td>\n",
              "      <td>02MAR2021:15:00:00</td>\n",
              "    </tr>\n",
              "    <tr>\n",
              "      <th>Club Glorias Argentinas</th>\n",
              "      <td>FEMENINO</td>\n",
              "      <td>Adultos Mayores de 80 años</td>\n",
              "      <td>25FEB2021:13:30:00</td>\n",
              "    </tr>\n",
              "    <tr>\n",
              "      <th>Centro de Dia N9 y 13</th>\n",
              "      <td>MASCULINO</td>\n",
              "      <td>Adultos Mayores de 80 años</td>\n",
              "      <td>25FEB2021:08:15:00</td>\n",
              "    </tr>\n",
              "    <tr>\n",
              "      <th>Club San Lorenzo</th>\n",
              "      <td>FEMENINO</td>\n",
              "      <td>Adultos Mayores de 80 años</td>\n",
              "      <td>26FEB2021:11:30:00</td>\n",
              "    </tr>\n",
              "  </tbody>\n",
              "</table>\n",
              "<p>1925045 rows × 3 columns</p>\n",
              "</div>"
            ],
            "text/plain": [
              "                                   genero  ...               fecha\n",
              "sede                                       ...                    \n",
              "Centro Islámico                 MASCULINO  ...  01MAR2021:11:15:00\n",
              "Club Ferro                      MASCULINO  ...  02MAR2021:09:00:00\n",
              "La Rural                         FEMENINO  ...  01MAR2021:13:30:00\n",
              "Centro de día Parque Chacabuco  MASCULINO  ...  25FEB2021:13:00:00\n",
              "Centro C. Recoleta               FEMENINO  ...  01MAR2021:13:30:00\n",
              "...                                   ...  ...                 ...\n",
              "Casa del Historiador             FEMENINO  ...  23FEB2021:15:45:00\n",
              "La Rural                        MASCULINO  ...  02MAR2021:15:00:00\n",
              "Club Glorias Argentinas          FEMENINO  ...  25FEB2021:13:30:00\n",
              "Centro de Dia N9 y 13           MASCULINO  ...  25FEB2021:08:15:00\n",
              "Club San Lorenzo                 FEMENINO  ...  26FEB2021:11:30:00\n",
              "\n",
              "[1925045 rows x 3 columns]"
            ]
          },
          "metadata": {},
          "execution_count": 17
        }
      ]
    },
    {
      "cell_type": "code",
      "metadata": {
        "colab": {
          "base_uri": "https://localhost:8080/",
          "height": 450
        },
        "id": "3Mh8wFmflRFq",
        "outputId": "9cba860d-7cdd-463a-e1f4-4c839e56ba8c"
      },
      "source": [
        "# Muestro solo registros con sede centro de recoleta\n",
        "turnos.loc['Centro C. Recoleta']"
      ],
      "execution_count": null,
      "outputs": [
        {
          "output_type": "execute_result",
          "data": {
            "text/html": [
              "<div>\n",
              "<style scoped>\n",
              "    .dataframe tbody tr th:only-of-type {\n",
              "        vertical-align: middle;\n",
              "    }\n",
              "\n",
              "    .dataframe tbody tr th {\n",
              "        vertical-align: top;\n",
              "    }\n",
              "\n",
              "    .dataframe thead th {\n",
              "        text-align: right;\n",
              "    }\n",
              "</style>\n",
              "<table border=\"1\" class=\"dataframe\">\n",
              "  <thead>\n",
              "    <tr style=\"text-align: right;\">\n",
              "      <th></th>\n",
              "      <th>genero</th>\n",
              "      <th>servicio</th>\n",
              "      <th>fecha</th>\n",
              "    </tr>\n",
              "    <tr>\n",
              "      <th>sede</th>\n",
              "      <th></th>\n",
              "      <th></th>\n",
              "      <th></th>\n",
              "    </tr>\n",
              "  </thead>\n",
              "  <tbody>\n",
              "    <tr>\n",
              "      <th>Centro C. Recoleta</th>\n",
              "      <td>FEMENINO</td>\n",
              "      <td>Adultos Mayores de 80 años</td>\n",
              "      <td>01MAR2021:13:30:00</td>\n",
              "    </tr>\n",
              "    <tr>\n",
              "      <th>Centro C. Recoleta</th>\n",
              "      <td>MASCULINO</td>\n",
              "      <td>Adultos Mayores de 80 años</td>\n",
              "      <td>01MAR2021:09:30:00</td>\n",
              "    </tr>\n",
              "    <tr>\n",
              "      <th>Centro C. Recoleta</th>\n",
              "      <td>MASCULINO</td>\n",
              "      <td>Adultos Mayores de 80 años</td>\n",
              "      <td>01MAR2021:08:30:00</td>\n",
              "    </tr>\n",
              "    <tr>\n",
              "      <th>Centro C. Recoleta</th>\n",
              "      <td>FEMENINO</td>\n",
              "      <td>Adultos Mayores de 80 años</td>\n",
              "      <td>03MAR2021:11:15:00</td>\n",
              "    </tr>\n",
              "    <tr>\n",
              "      <th>Centro C. Recoleta</th>\n",
              "      <td>FEMENINO</td>\n",
              "      <td>Adultos Mayores de 80 años</td>\n",
              "      <td>03MAR2021:11:45:00</td>\n",
              "    </tr>\n",
              "    <tr>\n",
              "      <th>...</th>\n",
              "      <td>...</td>\n",
              "      <td>...</td>\n",
              "      <td>...</td>\n",
              "    </tr>\n",
              "    <tr>\n",
              "      <th>Centro C. Recoleta</th>\n",
              "      <td>FEMENINO</td>\n",
              "      <td>Adultos Mayores de 80 años</td>\n",
              "      <td>03MAR2021:15:30:00</td>\n",
              "    </tr>\n",
              "    <tr>\n",
              "      <th>Centro C. Recoleta</th>\n",
              "      <td>MASCULINO</td>\n",
              "      <td>Adultos Mayores de 80 años</td>\n",
              "      <td>01MAR2021:15:30:00</td>\n",
              "    </tr>\n",
              "    <tr>\n",
              "      <th>Centro C. Recoleta</th>\n",
              "      <td>FEMENINO</td>\n",
              "      <td>Adultos Mayores de 80 años</td>\n",
              "      <td>01MAR2021:11:15:00</td>\n",
              "    </tr>\n",
              "    <tr>\n",
              "      <th>Centro C. Recoleta</th>\n",
              "      <td>MASCULINO</td>\n",
              "      <td>Adultos Mayores de 80 años</td>\n",
              "      <td>03MAR2021:15:30:00</td>\n",
              "    </tr>\n",
              "    <tr>\n",
              "      <th>Centro C. Recoleta</th>\n",
              "      <td>FEMENINO</td>\n",
              "      <td>Adultos Mayores de 80 años</td>\n",
              "      <td>01MAR2021:12:15:00</td>\n",
              "    </tr>\n",
              "  </tbody>\n",
              "</table>\n",
              "<p>69168 rows × 3 columns</p>\n",
              "</div>"
            ],
            "text/plain": [
              "                       genero                    servicio               fecha\n",
              "sede                                                                         \n",
              "Centro C. Recoleta   FEMENINO  Adultos Mayores de 80 años  01MAR2021:13:30:00\n",
              "Centro C. Recoleta  MASCULINO  Adultos Mayores de 80 años  01MAR2021:09:30:00\n",
              "Centro C. Recoleta  MASCULINO  Adultos Mayores de 80 años  01MAR2021:08:30:00\n",
              "Centro C. Recoleta   FEMENINO  Adultos Mayores de 80 años  03MAR2021:11:15:00\n",
              "Centro C. Recoleta   FEMENINO  Adultos Mayores de 80 años  03MAR2021:11:45:00\n",
              "...                       ...                         ...                 ...\n",
              "Centro C. Recoleta   FEMENINO  Adultos Mayores de 80 años  03MAR2021:15:30:00\n",
              "Centro C. Recoleta  MASCULINO  Adultos Mayores de 80 años  01MAR2021:15:30:00\n",
              "Centro C. Recoleta   FEMENINO  Adultos Mayores de 80 años  01MAR2021:11:15:00\n",
              "Centro C. Recoleta  MASCULINO  Adultos Mayores de 80 años  03MAR2021:15:30:00\n",
              "Centro C. Recoleta   FEMENINO  Adultos Mayores de 80 años  01MAR2021:12:15:00\n",
              "\n",
              "[69168 rows x 3 columns]"
            ]
          },
          "metadata": {},
          "execution_count": 18
        }
      ]
    },
    {
      "cell_type": "code",
      "metadata": {
        "colab": {
          "base_uri": "https://localhost:8080/",
          "height": 390
        },
        "id": "pFOkDPDtlks3",
        "outputId": "d4212474-2def-43c1-f966-9be3b33d690a"
      },
      "source": [
        "# Filtro por varios registros\n",
        "turnos.loc[['Centro C. Recoleta', 'La Rural', 'Centro de Dia N9 y 13']].sample(10)"
      ],
      "execution_count": null,
      "outputs": [
        {
          "output_type": "execute_result",
          "data": {
            "text/html": [
              "<div>\n",
              "<style scoped>\n",
              "    .dataframe tbody tr th:only-of-type {\n",
              "        vertical-align: middle;\n",
              "    }\n",
              "\n",
              "    .dataframe tbody tr th {\n",
              "        vertical-align: top;\n",
              "    }\n",
              "\n",
              "    .dataframe thead th {\n",
              "        text-align: right;\n",
              "    }\n",
              "</style>\n",
              "<table border=\"1\" class=\"dataframe\">\n",
              "  <thead>\n",
              "    <tr style=\"text-align: right;\">\n",
              "      <th></th>\n",
              "      <th>genero</th>\n",
              "      <th>servicio</th>\n",
              "      <th>fecha</th>\n",
              "    </tr>\n",
              "    <tr>\n",
              "      <th>sede</th>\n",
              "      <th></th>\n",
              "      <th></th>\n",
              "      <th></th>\n",
              "    </tr>\n",
              "  </thead>\n",
              "  <tbody>\n",
              "    <tr>\n",
              "      <th>La Rural</th>\n",
              "      <td>FEMENINO</td>\n",
              "      <td>Personal de Salud</td>\n",
              "      <td>29APR2021:14:15:00</td>\n",
              "    </tr>\n",
              "    <tr>\n",
              "      <th>La Rural</th>\n",
              "      <td>FEMENINO</td>\n",
              "      <td>Adultos Mayores de 18 años</td>\n",
              "      <td>08JUL2021:13:00:00</td>\n",
              "    </tr>\n",
              "    <tr>\n",
              "      <th>La Rural</th>\n",
              "      <td>MASCULINO</td>\n",
              "      <td>Adultos Mayores de 18 años</td>\n",
              "      <td>21JUN2021:10:30:00</td>\n",
              "    </tr>\n",
              "    <tr>\n",
              "      <th>La Rural</th>\n",
              "      <td>FEMENINO</td>\n",
              "      <td>Adultos Mayores de 18 años</td>\n",
              "      <td>08JUL2021:10:45:00</td>\n",
              "    </tr>\n",
              "    <tr>\n",
              "      <th>La Rural</th>\n",
              "      <td>MASCULINO</td>\n",
              "      <td>Adultos Mayores de 60 años</td>\n",
              "      <td>03MAY2021:16:00:00</td>\n",
              "    </tr>\n",
              "    <tr>\n",
              "      <th>La Rural</th>\n",
              "      <td>FEMENINO</td>\n",
              "      <td>Adultos Mayores de 18 años</td>\n",
              "      <td>25JUN2021:14:00:00</td>\n",
              "    </tr>\n",
              "    <tr>\n",
              "      <th>La Rural</th>\n",
              "      <td>FEMENINO</td>\n",
              "      <td>Adultos Mayores de 18 años</td>\n",
              "      <td>19JUN2021:13:30:00</td>\n",
              "    </tr>\n",
              "    <tr>\n",
              "      <th>La Rural</th>\n",
              "      <td>MASCULINO</td>\n",
              "      <td>Adultos Mayores de 18 años</td>\n",
              "      <td>23JUN2021:10:45:00</td>\n",
              "    </tr>\n",
              "    <tr>\n",
              "      <th>La Rural</th>\n",
              "      <td>MASCULINO</td>\n",
              "      <td>Adultos Mayores de 80 años</td>\n",
              "      <td>29MAR2021:15:45:00</td>\n",
              "    </tr>\n",
              "    <tr>\n",
              "      <th>Centro C. Recoleta</th>\n",
              "      <td>FEMENINO</td>\n",
              "      <td>Adultos Mayores de 70 años</td>\n",
              "      <td>08APR2021:15:45:00</td>\n",
              "    </tr>\n",
              "  </tbody>\n",
              "</table>\n",
              "</div>"
            ],
            "text/plain": [
              "                       genero                    servicio               fecha\n",
              "sede                                                                         \n",
              "La Rural             FEMENINO           Personal de Salud  29APR2021:14:15:00\n",
              "La Rural             FEMENINO  Adultos Mayores de 18 años  08JUL2021:13:00:00\n",
              "La Rural            MASCULINO  Adultos Mayores de 18 años  21JUN2021:10:30:00\n",
              "La Rural             FEMENINO  Adultos Mayores de 18 años  08JUL2021:10:45:00\n",
              "La Rural            MASCULINO  Adultos Mayores de 60 años  03MAY2021:16:00:00\n",
              "La Rural             FEMENINO  Adultos Mayores de 18 años  25JUN2021:14:00:00\n",
              "La Rural             FEMENINO  Adultos Mayores de 18 años  19JUN2021:13:30:00\n",
              "La Rural            MASCULINO  Adultos Mayores de 18 años  23JUN2021:10:45:00\n",
              "La Rural            MASCULINO  Adultos Mayores de 80 años  29MAR2021:15:45:00\n",
              "Centro C. Recoleta   FEMENINO  Adultos Mayores de 70 años  08APR2021:15:45:00"
            ]
          },
          "metadata": {},
          "execution_count": 19
        }
      ]
    },
    {
      "cell_type": "code",
      "metadata": {
        "id": "c4LiwdkdSDTl"
      },
      "source": [
        "turnos.reset_index(inplace = True)"
      ],
      "execution_count": null,
      "outputs": []
    },
    {
      "cell_type": "code",
      "metadata": {
        "colab": {
          "base_uri": "https://localhost:8080/",
          "height": 419
        },
        "id": "pTym6ypNRXYA",
        "outputId": "bafc2608-68f8-4f15-c06d-c75020f1f92d"
      },
      "source": [
        "# Todas las sedes menos una\n",
        "turnos.loc[turnos.sede != \"La Rural\"]"
      ],
      "execution_count": null,
      "outputs": [
        {
          "output_type": "execute_result",
          "data": {
            "text/html": [
              "<div>\n",
              "<style scoped>\n",
              "    .dataframe tbody tr th:only-of-type {\n",
              "        vertical-align: middle;\n",
              "    }\n",
              "\n",
              "    .dataframe tbody tr th {\n",
              "        vertical-align: top;\n",
              "    }\n",
              "\n",
              "    .dataframe thead th {\n",
              "        text-align: right;\n",
              "    }\n",
              "</style>\n",
              "<table border=\"1\" class=\"dataframe\">\n",
              "  <thead>\n",
              "    <tr style=\"text-align: right;\">\n",
              "      <th></th>\n",
              "      <th>sede</th>\n",
              "      <th>genero</th>\n",
              "      <th>servicio</th>\n",
              "      <th>fecha</th>\n",
              "    </tr>\n",
              "  </thead>\n",
              "  <tbody>\n",
              "    <tr>\n",
              "      <th>0</th>\n",
              "      <td>Centro Islámico</td>\n",
              "      <td>MASCULINO</td>\n",
              "      <td>Adultos Mayores de 80 años</td>\n",
              "      <td>01MAR2021:11:15:00</td>\n",
              "    </tr>\n",
              "    <tr>\n",
              "      <th>1</th>\n",
              "      <td>Club Ferro</td>\n",
              "      <td>MASCULINO</td>\n",
              "      <td>Adultos Mayores de 80 años</td>\n",
              "      <td>02MAR2021:09:00:00</td>\n",
              "    </tr>\n",
              "    <tr>\n",
              "      <th>3</th>\n",
              "      <td>Centro de día Parque Chacabuco</td>\n",
              "      <td>MASCULINO</td>\n",
              "      <td>Adultos Mayores de 80 años</td>\n",
              "      <td>25FEB2021:13:00:00</td>\n",
              "    </tr>\n",
              "    <tr>\n",
              "      <th>4</th>\n",
              "      <td>Centro C. Recoleta</td>\n",
              "      <td>FEMENINO</td>\n",
              "      <td>Adultos Mayores de 80 años</td>\n",
              "      <td>01MAR2021:13:30:00</td>\n",
              "    </tr>\n",
              "    <tr>\n",
              "      <th>5</th>\n",
              "      <td>Centro C. Recoleta</td>\n",
              "      <td>MASCULINO</td>\n",
              "      <td>Adultos Mayores de 80 años</td>\n",
              "      <td>01MAR2021:09:30:00</td>\n",
              "    </tr>\n",
              "    <tr>\n",
              "      <th>...</th>\n",
              "      <td>...</td>\n",
              "      <td>...</td>\n",
              "      <td>...</td>\n",
              "      <td>...</td>\n",
              "    </tr>\n",
              "    <tr>\n",
              "      <th>1925038</th>\n",
              "      <td>Usina del Arte</td>\n",
              "      <td>MASCULINO</td>\n",
              "      <td>Adultos Mayores de 80 años</td>\n",
              "      <td>24FEB2021:12:15:00</td>\n",
              "    </tr>\n",
              "    <tr>\n",
              "      <th>1925040</th>\n",
              "      <td>Casa del Historiador</td>\n",
              "      <td>FEMENINO</td>\n",
              "      <td>Adultos Mayores de 80 años</td>\n",
              "      <td>23FEB2021:15:45:00</td>\n",
              "    </tr>\n",
              "    <tr>\n",
              "      <th>1925042</th>\n",
              "      <td>Club Glorias Argentinas</td>\n",
              "      <td>FEMENINO</td>\n",
              "      <td>Adultos Mayores de 80 años</td>\n",
              "      <td>25FEB2021:13:30:00</td>\n",
              "    </tr>\n",
              "    <tr>\n",
              "      <th>1925043</th>\n",
              "      <td>Centro de Dia N9 y 13</td>\n",
              "      <td>MASCULINO</td>\n",
              "      <td>Adultos Mayores de 80 años</td>\n",
              "      <td>25FEB2021:08:15:00</td>\n",
              "    </tr>\n",
              "    <tr>\n",
              "      <th>1925044</th>\n",
              "      <td>Club San Lorenzo</td>\n",
              "      <td>FEMENINO</td>\n",
              "      <td>Adultos Mayores de 80 años</td>\n",
              "      <td>26FEB2021:11:30:00</td>\n",
              "    </tr>\n",
              "  </tbody>\n",
              "</table>\n",
              "<p>1709297 rows × 4 columns</p>\n",
              "</div>"
            ],
            "text/plain": [
              "                                   sede  ...               fecha\n",
              "0                       Centro Islámico  ...  01MAR2021:11:15:00\n",
              "1                            Club Ferro  ...  02MAR2021:09:00:00\n",
              "3        Centro de día Parque Chacabuco  ...  25FEB2021:13:00:00\n",
              "4                    Centro C. Recoleta  ...  01MAR2021:13:30:00\n",
              "5                    Centro C. Recoleta  ...  01MAR2021:09:30:00\n",
              "...                                 ...  ...                 ...\n",
              "1925038                  Usina del Arte  ...  24FEB2021:12:15:00\n",
              "1925040            Casa del Historiador  ...  23FEB2021:15:45:00\n",
              "1925042         Club Glorias Argentinas  ...  25FEB2021:13:30:00\n",
              "1925043           Centro de Dia N9 y 13  ...  25FEB2021:08:15:00\n",
              "1925044                Club San Lorenzo  ...  26FEB2021:11:30:00\n",
              "\n",
              "[1709297 rows x 4 columns]"
            ]
          },
          "metadata": {},
          "execution_count": 22
        }
      ]
    },
    {
      "cell_type": "code",
      "metadata": {
        "id": "vnhNNRUsSKe9"
      },
      "source": [
        "turnos.reset_index(inplace = True)"
      ],
      "execution_count": null,
      "outputs": []
    },
    {
      "cell_type": "code",
      "metadata": {
        "id": "CiVVJa73SeeO"
      },
      "source": [
        "# Ahora si, defino un nuevo indice, en este caso 'sede'\n",
        "turnos.set_index('sede', inplace = True)"
      ],
      "execution_count": null,
      "outputs": []
    },
    {
      "cell_type": "code",
      "metadata": {
        "colab": {
          "base_uri": "https://localhost:8080/"
        },
        "id": "8v1E97ZUmUSd",
        "outputId": "5d52914a-8414-476c-a8cb-1a5bbf7ba9bf"
      },
      "source": [
        "# Filtro por varios registros y columnas\n",
        "turnos.loc[['Centro C. Recoleta', 'La Rural'], 'genero']"
      ],
      "execution_count": null,
      "outputs": [
        {
          "output_type": "execute_result",
          "data": {
            "text/plain": [
              "sede\n",
              "Centro C. Recoleta     FEMENINO\n",
              "Centro C. Recoleta    MASCULINO\n",
              "Centro C. Recoleta    MASCULINO\n",
              "Centro C. Recoleta     FEMENINO\n",
              "Centro C. Recoleta     FEMENINO\n",
              "                        ...    \n",
              "La Rural               FEMENINO\n",
              "La Rural              MASCULINO\n",
              "La Rural              MASCULINO\n",
              "La Rural               FEMENINO\n",
              "La Rural              MASCULINO\n",
              "Name: genero, Length: 284916, dtype: object"
            ]
          },
          "metadata": {},
          "execution_count": 29
        }
      ]
    },
    {
      "cell_type": "code",
      "metadata": {
        "colab": {
          "base_uri": "https://localhost:8080/",
          "height": 450
        },
        "id": "t5-ErRLxmo-a",
        "outputId": "abe33ef6-6b06-44f2-aa03-0e08316c4b01"
      },
      "source": [
        "turnos.loc[['Centro C. Recoleta', 'La Rural'], ['genero']]"
      ],
      "execution_count": null,
      "outputs": [
        {
          "output_type": "execute_result",
          "data": {
            "text/html": [
              "<div>\n",
              "<style scoped>\n",
              "    .dataframe tbody tr th:only-of-type {\n",
              "        vertical-align: middle;\n",
              "    }\n",
              "\n",
              "    .dataframe tbody tr th {\n",
              "        vertical-align: top;\n",
              "    }\n",
              "\n",
              "    .dataframe thead th {\n",
              "        text-align: right;\n",
              "    }\n",
              "</style>\n",
              "<table border=\"1\" class=\"dataframe\">\n",
              "  <thead>\n",
              "    <tr style=\"text-align: right;\">\n",
              "      <th></th>\n",
              "      <th>genero</th>\n",
              "    </tr>\n",
              "    <tr>\n",
              "      <th>sede</th>\n",
              "      <th></th>\n",
              "    </tr>\n",
              "  </thead>\n",
              "  <tbody>\n",
              "    <tr>\n",
              "      <th>Centro C. Recoleta</th>\n",
              "      <td>FEMENINO</td>\n",
              "    </tr>\n",
              "    <tr>\n",
              "      <th>Centro C. Recoleta</th>\n",
              "      <td>MASCULINO</td>\n",
              "    </tr>\n",
              "    <tr>\n",
              "      <th>Centro C. Recoleta</th>\n",
              "      <td>MASCULINO</td>\n",
              "    </tr>\n",
              "    <tr>\n",
              "      <th>Centro C. Recoleta</th>\n",
              "      <td>FEMENINO</td>\n",
              "    </tr>\n",
              "    <tr>\n",
              "      <th>Centro C. Recoleta</th>\n",
              "      <td>FEMENINO</td>\n",
              "    </tr>\n",
              "    <tr>\n",
              "      <th>...</th>\n",
              "      <td>...</td>\n",
              "    </tr>\n",
              "    <tr>\n",
              "      <th>La Rural</th>\n",
              "      <td>FEMENINO</td>\n",
              "    </tr>\n",
              "    <tr>\n",
              "      <th>La Rural</th>\n",
              "      <td>MASCULINO</td>\n",
              "    </tr>\n",
              "    <tr>\n",
              "      <th>La Rural</th>\n",
              "      <td>MASCULINO</td>\n",
              "    </tr>\n",
              "    <tr>\n",
              "      <th>La Rural</th>\n",
              "      <td>FEMENINO</td>\n",
              "    </tr>\n",
              "    <tr>\n",
              "      <th>La Rural</th>\n",
              "      <td>MASCULINO</td>\n",
              "    </tr>\n",
              "  </tbody>\n",
              "</table>\n",
              "<p>284916 rows × 1 columns</p>\n",
              "</div>"
            ],
            "text/plain": [
              "                       genero\n",
              "sede                         \n",
              "Centro C. Recoleta   FEMENINO\n",
              "Centro C. Recoleta  MASCULINO\n",
              "Centro C. Recoleta  MASCULINO\n",
              "Centro C. Recoleta   FEMENINO\n",
              "Centro C. Recoleta   FEMENINO\n",
              "...                       ...\n",
              "La Rural             FEMENINO\n",
              "La Rural            MASCULINO\n",
              "La Rural            MASCULINO\n",
              "La Rural             FEMENINO\n",
              "La Rural            MASCULINO\n",
              "\n",
              "[284916 rows x 1 columns]"
            ]
          },
          "metadata": {},
          "execution_count": 30
        }
      ]
    },
    {
      "cell_type": "code",
      "metadata": {
        "colab": {
          "base_uri": "https://localhost:8080/",
          "height": 450
        },
        "id": "5SMWlwTgm-v9",
        "outputId": "2a0e1ae6-b10f-4088-9937-4b3097f7b9d1"
      },
      "source": [
        "#_____________filtro filas______________________filtro columnas____\n",
        "turnos.loc[['Centro C. Recoleta', 'La Rural'], ['genero','fecha']]"
      ],
      "execution_count": null,
      "outputs": [
        {
          "output_type": "execute_result",
          "data": {
            "text/html": [
              "<div>\n",
              "<style scoped>\n",
              "    .dataframe tbody tr th:only-of-type {\n",
              "        vertical-align: middle;\n",
              "    }\n",
              "\n",
              "    .dataframe tbody tr th {\n",
              "        vertical-align: top;\n",
              "    }\n",
              "\n",
              "    .dataframe thead th {\n",
              "        text-align: right;\n",
              "    }\n",
              "</style>\n",
              "<table border=\"1\" class=\"dataframe\">\n",
              "  <thead>\n",
              "    <tr style=\"text-align: right;\">\n",
              "      <th></th>\n",
              "      <th>genero</th>\n",
              "      <th>fecha</th>\n",
              "    </tr>\n",
              "    <tr>\n",
              "      <th>sede</th>\n",
              "      <th></th>\n",
              "      <th></th>\n",
              "    </tr>\n",
              "  </thead>\n",
              "  <tbody>\n",
              "    <tr>\n",
              "      <th>Centro C. Recoleta</th>\n",
              "      <td>FEMENINO</td>\n",
              "      <td>01MAR2021:13:30:00</td>\n",
              "    </tr>\n",
              "    <tr>\n",
              "      <th>Centro C. Recoleta</th>\n",
              "      <td>MASCULINO</td>\n",
              "      <td>01MAR2021:09:30:00</td>\n",
              "    </tr>\n",
              "    <tr>\n",
              "      <th>Centro C. Recoleta</th>\n",
              "      <td>MASCULINO</td>\n",
              "      <td>01MAR2021:08:30:00</td>\n",
              "    </tr>\n",
              "    <tr>\n",
              "      <th>Centro C. Recoleta</th>\n",
              "      <td>FEMENINO</td>\n",
              "      <td>03MAR2021:11:15:00</td>\n",
              "    </tr>\n",
              "    <tr>\n",
              "      <th>Centro C. Recoleta</th>\n",
              "      <td>FEMENINO</td>\n",
              "      <td>03MAR2021:11:45:00</td>\n",
              "    </tr>\n",
              "    <tr>\n",
              "      <th>...</th>\n",
              "      <td>...</td>\n",
              "      <td>...</td>\n",
              "    </tr>\n",
              "    <tr>\n",
              "      <th>La Rural</th>\n",
              "      <td>FEMENINO</td>\n",
              "      <td>03MAR2021:13:00:00</td>\n",
              "    </tr>\n",
              "    <tr>\n",
              "      <th>La Rural</th>\n",
              "      <td>MASCULINO</td>\n",
              "      <td>03MAR2021:10:30:00</td>\n",
              "    </tr>\n",
              "    <tr>\n",
              "      <th>La Rural</th>\n",
              "      <td>MASCULINO</td>\n",
              "      <td>02MAR2021:10:15:00</td>\n",
              "    </tr>\n",
              "    <tr>\n",
              "      <th>La Rural</th>\n",
              "      <td>FEMENINO</td>\n",
              "      <td>03MAR2021:11:15:00</td>\n",
              "    </tr>\n",
              "    <tr>\n",
              "      <th>La Rural</th>\n",
              "      <td>MASCULINO</td>\n",
              "      <td>02MAR2021:15:00:00</td>\n",
              "    </tr>\n",
              "  </tbody>\n",
              "</table>\n",
              "<p>284916 rows × 2 columns</p>\n",
              "</div>"
            ],
            "text/plain": [
              "                       genero               fecha\n",
              "sede                                             \n",
              "Centro C. Recoleta   FEMENINO  01MAR2021:13:30:00\n",
              "Centro C. Recoleta  MASCULINO  01MAR2021:09:30:00\n",
              "Centro C. Recoleta  MASCULINO  01MAR2021:08:30:00\n",
              "Centro C. Recoleta   FEMENINO  03MAR2021:11:15:00\n",
              "Centro C. Recoleta   FEMENINO  03MAR2021:11:45:00\n",
              "...                       ...                 ...\n",
              "La Rural             FEMENINO  03MAR2021:13:00:00\n",
              "La Rural            MASCULINO  03MAR2021:10:30:00\n",
              "La Rural            MASCULINO  02MAR2021:10:15:00\n",
              "La Rural             FEMENINO  03MAR2021:11:15:00\n",
              "La Rural            MASCULINO  02MAR2021:15:00:00\n",
              "\n",
              "[284916 rows x 2 columns]"
            ]
          },
          "metadata": {},
          "execution_count": 31
        }
      ]
    },
    {
      "cell_type": "code",
      "metadata": {
        "colab": {
          "base_uri": "https://localhost:8080/",
          "height": 450
        },
        "id": "2o1MwiLEnLBF",
        "outputId": "5d751162-32b8-4744-f6df-6cf6bf4038a4"
      },
      "source": [
        "# Muestro todas las filas y filtro columnas\n",
        "turnos.loc[:, ['genero','fecha']]"
      ],
      "execution_count": null,
      "outputs": [
        {
          "output_type": "execute_result",
          "data": {
            "text/html": [
              "<div>\n",
              "<style scoped>\n",
              "    .dataframe tbody tr th:only-of-type {\n",
              "        vertical-align: middle;\n",
              "    }\n",
              "\n",
              "    .dataframe tbody tr th {\n",
              "        vertical-align: top;\n",
              "    }\n",
              "\n",
              "    .dataframe thead th {\n",
              "        text-align: right;\n",
              "    }\n",
              "</style>\n",
              "<table border=\"1\" class=\"dataframe\">\n",
              "  <thead>\n",
              "    <tr style=\"text-align: right;\">\n",
              "      <th></th>\n",
              "      <th>genero</th>\n",
              "      <th>fecha</th>\n",
              "    </tr>\n",
              "    <tr>\n",
              "      <th>sede</th>\n",
              "      <th></th>\n",
              "      <th></th>\n",
              "    </tr>\n",
              "  </thead>\n",
              "  <tbody>\n",
              "    <tr>\n",
              "      <th>Centro Islámico</th>\n",
              "      <td>MASCULINO</td>\n",
              "      <td>01MAR2021:11:15:00</td>\n",
              "    </tr>\n",
              "    <tr>\n",
              "      <th>Club Ferro</th>\n",
              "      <td>MASCULINO</td>\n",
              "      <td>02MAR2021:09:00:00</td>\n",
              "    </tr>\n",
              "    <tr>\n",
              "      <th>La Rural</th>\n",
              "      <td>FEMENINO</td>\n",
              "      <td>01MAR2021:13:30:00</td>\n",
              "    </tr>\n",
              "    <tr>\n",
              "      <th>Centro de día Parque Chacabuco</th>\n",
              "      <td>MASCULINO</td>\n",
              "      <td>25FEB2021:13:00:00</td>\n",
              "    </tr>\n",
              "    <tr>\n",
              "      <th>Centro C. Recoleta</th>\n",
              "      <td>FEMENINO</td>\n",
              "      <td>01MAR2021:13:30:00</td>\n",
              "    </tr>\n",
              "    <tr>\n",
              "      <th>...</th>\n",
              "      <td>...</td>\n",
              "      <td>...</td>\n",
              "    </tr>\n",
              "    <tr>\n",
              "      <th>Casa del Historiador</th>\n",
              "      <td>FEMENINO</td>\n",
              "      <td>23FEB2021:15:45:00</td>\n",
              "    </tr>\n",
              "    <tr>\n",
              "      <th>La Rural</th>\n",
              "      <td>MASCULINO</td>\n",
              "      <td>02MAR2021:15:00:00</td>\n",
              "    </tr>\n",
              "    <tr>\n",
              "      <th>Club Glorias Argentinas</th>\n",
              "      <td>FEMENINO</td>\n",
              "      <td>25FEB2021:13:30:00</td>\n",
              "    </tr>\n",
              "    <tr>\n",
              "      <th>Centro de Dia N9 y 13</th>\n",
              "      <td>MASCULINO</td>\n",
              "      <td>25FEB2021:08:15:00</td>\n",
              "    </tr>\n",
              "    <tr>\n",
              "      <th>Club San Lorenzo</th>\n",
              "      <td>FEMENINO</td>\n",
              "      <td>26FEB2021:11:30:00</td>\n",
              "    </tr>\n",
              "  </tbody>\n",
              "</table>\n",
              "<p>1925045 rows × 2 columns</p>\n",
              "</div>"
            ],
            "text/plain": [
              "                                   genero               fecha\n",
              "sede                                                         \n",
              "Centro Islámico                 MASCULINO  01MAR2021:11:15:00\n",
              "Club Ferro                      MASCULINO  02MAR2021:09:00:00\n",
              "La Rural                         FEMENINO  01MAR2021:13:30:00\n",
              "Centro de día Parque Chacabuco  MASCULINO  25FEB2021:13:00:00\n",
              "Centro C. Recoleta               FEMENINO  01MAR2021:13:30:00\n",
              "...                                   ...                 ...\n",
              "Casa del Historiador             FEMENINO  23FEB2021:15:45:00\n",
              "La Rural                        MASCULINO  02MAR2021:15:00:00\n",
              "Club Glorias Argentinas          FEMENINO  25FEB2021:13:30:00\n",
              "Centro de Dia N9 y 13           MASCULINO  25FEB2021:08:15:00\n",
              "Club San Lorenzo                 FEMENINO  26FEB2021:11:30:00\n",
              "\n",
              "[1925045 rows x 2 columns]"
            ]
          },
          "metadata": {},
          "execution_count": 32
        }
      ]
    },
    {
      "cell_type": "code",
      "metadata": {
        "colab": {
          "base_uri": "https://localhost:8080/",
          "height": 450
        },
        "id": "Me6ASFXtnZp9",
        "outputId": "cff2b0a1-7579-4910-e280-9e2221fb4d47"
      },
      "source": [
        "# Filtro filas y muestro todas las columnas\n",
        "turnos.loc[['La Rural'], :]"
      ],
      "execution_count": null,
      "outputs": [
        {
          "output_type": "execute_result",
          "data": {
            "text/html": [
              "<div>\n",
              "<style scoped>\n",
              "    .dataframe tbody tr th:only-of-type {\n",
              "        vertical-align: middle;\n",
              "    }\n",
              "\n",
              "    .dataframe tbody tr th {\n",
              "        vertical-align: top;\n",
              "    }\n",
              "\n",
              "    .dataframe thead th {\n",
              "        text-align: right;\n",
              "    }\n",
              "</style>\n",
              "<table border=\"1\" class=\"dataframe\">\n",
              "  <thead>\n",
              "    <tr style=\"text-align: right;\">\n",
              "      <th></th>\n",
              "      <th>level_0</th>\n",
              "      <th>index</th>\n",
              "      <th>genero</th>\n",
              "      <th>servicio</th>\n",
              "      <th>fecha</th>\n",
              "    </tr>\n",
              "    <tr>\n",
              "      <th>sede</th>\n",
              "      <th></th>\n",
              "      <th></th>\n",
              "      <th></th>\n",
              "      <th></th>\n",
              "      <th></th>\n",
              "    </tr>\n",
              "  </thead>\n",
              "  <tbody>\n",
              "    <tr>\n",
              "      <th>La Rural</th>\n",
              "      <td>2</td>\n",
              "      <td>2</td>\n",
              "      <td>FEMENINO</td>\n",
              "      <td>Adultos Mayores de 80 años</td>\n",
              "      <td>01MAR2021:13:30:00</td>\n",
              "    </tr>\n",
              "    <tr>\n",
              "      <th>La Rural</th>\n",
              "      <td>16</td>\n",
              "      <td>16</td>\n",
              "      <td>MASCULINO</td>\n",
              "      <td>Adultos Mayores de 80 años</td>\n",
              "      <td>02MAR2021:15:45:00</td>\n",
              "    </tr>\n",
              "    <tr>\n",
              "      <th>La Rural</th>\n",
              "      <td>24</td>\n",
              "      <td>24</td>\n",
              "      <td>FEMENINO</td>\n",
              "      <td>Adultos Mayores de 80 años</td>\n",
              "      <td>03MAR2021:11:15:00</td>\n",
              "    </tr>\n",
              "    <tr>\n",
              "      <th>La Rural</th>\n",
              "      <td>36</td>\n",
              "      <td>36</td>\n",
              "      <td>MASCULINO</td>\n",
              "      <td>Adultos Mayores de 80 años</td>\n",
              "      <td>02MAR2021:10:15:00</td>\n",
              "    </tr>\n",
              "    <tr>\n",
              "      <th>La Rural</th>\n",
              "      <td>37</td>\n",
              "      <td>37</td>\n",
              "      <td>MASCULINO</td>\n",
              "      <td>Adultos Mayores de 80 años</td>\n",
              "      <td>01MAR2021:13:30:00</td>\n",
              "    </tr>\n",
              "    <tr>\n",
              "      <th>...</th>\n",
              "      <td>...</td>\n",
              "      <td>...</td>\n",
              "      <td>...</td>\n",
              "      <td>...</td>\n",
              "      <td>...</td>\n",
              "    </tr>\n",
              "    <tr>\n",
              "      <th>La Rural</th>\n",
              "      <td>1925021</td>\n",
              "      <td>1925021</td>\n",
              "      <td>FEMENINO</td>\n",
              "      <td>Adultos Mayores de 80 años</td>\n",
              "      <td>03MAR2021:13:00:00</td>\n",
              "    </tr>\n",
              "    <tr>\n",
              "      <th>La Rural</th>\n",
              "      <td>1925024</td>\n",
              "      <td>1925024</td>\n",
              "      <td>MASCULINO</td>\n",
              "      <td>Adultos Mayores de 80 años</td>\n",
              "      <td>03MAR2021:10:30:00</td>\n",
              "    </tr>\n",
              "    <tr>\n",
              "      <th>La Rural</th>\n",
              "      <td>1925033</td>\n",
              "      <td>1925033</td>\n",
              "      <td>MASCULINO</td>\n",
              "      <td>Adultos Mayores de 80 años</td>\n",
              "      <td>02MAR2021:10:15:00</td>\n",
              "    </tr>\n",
              "    <tr>\n",
              "      <th>La Rural</th>\n",
              "      <td>1925039</td>\n",
              "      <td>1925039</td>\n",
              "      <td>FEMENINO</td>\n",
              "      <td>Adultos Mayores de 80 años</td>\n",
              "      <td>03MAR2021:11:15:00</td>\n",
              "    </tr>\n",
              "    <tr>\n",
              "      <th>La Rural</th>\n",
              "      <td>1925041</td>\n",
              "      <td>1925041</td>\n",
              "      <td>MASCULINO</td>\n",
              "      <td>Adultos Mayores de 80 años</td>\n",
              "      <td>02MAR2021:15:00:00</td>\n",
              "    </tr>\n",
              "  </tbody>\n",
              "</table>\n",
              "<p>215748 rows × 5 columns</p>\n",
              "</div>"
            ],
            "text/plain": [
              "          level_0    index  ...                    servicio               fecha\n",
              "sede                        ...                                                \n",
              "La Rural        2        2  ...  Adultos Mayores de 80 años  01MAR2021:13:30:00\n",
              "La Rural       16       16  ...  Adultos Mayores de 80 años  02MAR2021:15:45:00\n",
              "La Rural       24       24  ...  Adultos Mayores de 80 años  03MAR2021:11:15:00\n",
              "La Rural       36       36  ...  Adultos Mayores de 80 años  02MAR2021:10:15:00\n",
              "La Rural       37       37  ...  Adultos Mayores de 80 años  01MAR2021:13:30:00\n",
              "...           ...      ...  ...                         ...                 ...\n",
              "La Rural  1925021  1925021  ...  Adultos Mayores de 80 años  03MAR2021:13:00:00\n",
              "La Rural  1925024  1925024  ...  Adultos Mayores de 80 años  03MAR2021:10:30:00\n",
              "La Rural  1925033  1925033  ...  Adultos Mayores de 80 años  02MAR2021:10:15:00\n",
              "La Rural  1925039  1925039  ...  Adultos Mayores de 80 años  03MAR2021:11:15:00\n",
              "La Rural  1925041  1925041  ...  Adultos Mayores de 80 años  02MAR2021:15:00:00\n",
              "\n",
              "[215748 rows x 5 columns]"
            ]
          },
          "metadata": {},
          "execution_count": 33
        }
      ]
    },
    {
      "cell_type": "code",
      "metadata": {
        "colab": {
          "base_uri": "https://localhost:8080/",
          "height": 450
        },
        "id": "C4BjJDdlnpf9",
        "outputId": "c329a66d-5a4b-4a73-c5db-121a3dce44c5"
      },
      "source": [
        "# Filtro filas y muestro columnas desde servicio a la derecha\n",
        "turnos.loc[['La Rural'], 'servicio':]"
      ],
      "execution_count": null,
      "outputs": [
        {
          "output_type": "execute_result",
          "data": {
            "text/html": [
              "<div>\n",
              "<style scoped>\n",
              "    .dataframe tbody tr th:only-of-type {\n",
              "        vertical-align: middle;\n",
              "    }\n",
              "\n",
              "    .dataframe tbody tr th {\n",
              "        vertical-align: top;\n",
              "    }\n",
              "\n",
              "    .dataframe thead th {\n",
              "        text-align: right;\n",
              "    }\n",
              "</style>\n",
              "<table border=\"1\" class=\"dataframe\">\n",
              "  <thead>\n",
              "    <tr style=\"text-align: right;\">\n",
              "      <th></th>\n",
              "      <th>servicio</th>\n",
              "      <th>fecha</th>\n",
              "    </tr>\n",
              "    <tr>\n",
              "      <th>sede</th>\n",
              "      <th></th>\n",
              "      <th></th>\n",
              "    </tr>\n",
              "  </thead>\n",
              "  <tbody>\n",
              "    <tr>\n",
              "      <th>La Rural</th>\n",
              "      <td>Adultos Mayores de 80 años</td>\n",
              "      <td>01MAR2021:13:30:00</td>\n",
              "    </tr>\n",
              "    <tr>\n",
              "      <th>La Rural</th>\n",
              "      <td>Adultos Mayores de 80 años</td>\n",
              "      <td>02MAR2021:15:45:00</td>\n",
              "    </tr>\n",
              "    <tr>\n",
              "      <th>La Rural</th>\n",
              "      <td>Adultos Mayores de 80 años</td>\n",
              "      <td>03MAR2021:11:15:00</td>\n",
              "    </tr>\n",
              "    <tr>\n",
              "      <th>La Rural</th>\n",
              "      <td>Adultos Mayores de 80 años</td>\n",
              "      <td>02MAR2021:10:15:00</td>\n",
              "    </tr>\n",
              "    <tr>\n",
              "      <th>La Rural</th>\n",
              "      <td>Adultos Mayores de 80 años</td>\n",
              "      <td>01MAR2021:13:30:00</td>\n",
              "    </tr>\n",
              "    <tr>\n",
              "      <th>...</th>\n",
              "      <td>...</td>\n",
              "      <td>...</td>\n",
              "    </tr>\n",
              "    <tr>\n",
              "      <th>La Rural</th>\n",
              "      <td>Adultos Mayores de 80 años</td>\n",
              "      <td>03MAR2021:13:00:00</td>\n",
              "    </tr>\n",
              "    <tr>\n",
              "      <th>La Rural</th>\n",
              "      <td>Adultos Mayores de 80 años</td>\n",
              "      <td>03MAR2021:10:30:00</td>\n",
              "    </tr>\n",
              "    <tr>\n",
              "      <th>La Rural</th>\n",
              "      <td>Adultos Mayores de 80 años</td>\n",
              "      <td>02MAR2021:10:15:00</td>\n",
              "    </tr>\n",
              "    <tr>\n",
              "      <th>La Rural</th>\n",
              "      <td>Adultos Mayores de 80 años</td>\n",
              "      <td>03MAR2021:11:15:00</td>\n",
              "    </tr>\n",
              "    <tr>\n",
              "      <th>La Rural</th>\n",
              "      <td>Adultos Mayores de 80 años</td>\n",
              "      <td>02MAR2021:15:00:00</td>\n",
              "    </tr>\n",
              "  </tbody>\n",
              "</table>\n",
              "<p>215748 rows × 2 columns</p>\n",
              "</div>"
            ],
            "text/plain": [
              "                            servicio               fecha\n",
              "sede                                                    \n",
              "La Rural  Adultos Mayores de 80 años  01MAR2021:13:30:00\n",
              "La Rural  Adultos Mayores de 80 años  02MAR2021:15:45:00\n",
              "La Rural  Adultos Mayores de 80 años  03MAR2021:11:15:00\n",
              "La Rural  Adultos Mayores de 80 años  02MAR2021:10:15:00\n",
              "La Rural  Adultos Mayores de 80 años  01MAR2021:13:30:00\n",
              "...                              ...                 ...\n",
              "La Rural  Adultos Mayores de 80 años  03MAR2021:13:00:00\n",
              "La Rural  Adultos Mayores de 80 años  03MAR2021:10:30:00\n",
              "La Rural  Adultos Mayores de 80 años  02MAR2021:10:15:00\n",
              "La Rural  Adultos Mayores de 80 años  03MAR2021:11:15:00\n",
              "La Rural  Adultos Mayores de 80 años  02MAR2021:15:00:00\n",
              "\n",
              "[215748 rows x 2 columns]"
            ]
          },
          "metadata": {},
          "execution_count": 34
        }
      ]
    },
    {
      "cell_type": "code",
      "metadata": {
        "id": "Glr-5gphold8"
      },
      "source": [
        "# Vuelvo a resetear indice\n",
        "turnos.reset_index(inplace = True)"
      ],
      "execution_count": null,
      "outputs": []
    },
    {
      "cell_type": "code",
      "metadata": {
        "colab": {
          "base_uri": "https://localhost:8080/",
          "height": 419
        },
        "id": "ijVr3A5Vouls",
        "outputId": "31c5d198-f601-4acd-ac6b-abf7580389ea"
      },
      "source": [
        "turnos"
      ],
      "execution_count": null,
      "outputs": [
        {
          "output_type": "execute_result",
          "data": {
            "text/html": [
              "<div>\n",
              "<style scoped>\n",
              "    .dataframe tbody tr th:only-of-type {\n",
              "        vertical-align: middle;\n",
              "    }\n",
              "\n",
              "    .dataframe tbody tr th {\n",
              "        vertical-align: top;\n",
              "    }\n",
              "\n",
              "    .dataframe thead th {\n",
              "        text-align: right;\n",
              "    }\n",
              "</style>\n",
              "<table border=\"1\" class=\"dataframe\">\n",
              "  <thead>\n",
              "    <tr style=\"text-align: right;\">\n",
              "      <th></th>\n",
              "      <th>sede</th>\n",
              "      <th>level_0</th>\n",
              "      <th>index</th>\n",
              "      <th>genero</th>\n",
              "      <th>servicio</th>\n",
              "      <th>fecha</th>\n",
              "    </tr>\n",
              "  </thead>\n",
              "  <tbody>\n",
              "    <tr>\n",
              "      <th>0</th>\n",
              "      <td>Centro Islámico</td>\n",
              "      <td>0</td>\n",
              "      <td>0</td>\n",
              "      <td>MASCULINO</td>\n",
              "      <td>Adultos Mayores de 80 años</td>\n",
              "      <td>01MAR2021:11:15:00</td>\n",
              "    </tr>\n",
              "    <tr>\n",
              "      <th>1</th>\n",
              "      <td>Club Ferro</td>\n",
              "      <td>1</td>\n",
              "      <td>1</td>\n",
              "      <td>MASCULINO</td>\n",
              "      <td>Adultos Mayores de 80 años</td>\n",
              "      <td>02MAR2021:09:00:00</td>\n",
              "    </tr>\n",
              "    <tr>\n",
              "      <th>2</th>\n",
              "      <td>La Rural</td>\n",
              "      <td>2</td>\n",
              "      <td>2</td>\n",
              "      <td>FEMENINO</td>\n",
              "      <td>Adultos Mayores de 80 años</td>\n",
              "      <td>01MAR2021:13:30:00</td>\n",
              "    </tr>\n",
              "    <tr>\n",
              "      <th>3</th>\n",
              "      <td>Centro de día Parque Chacabuco</td>\n",
              "      <td>3</td>\n",
              "      <td>3</td>\n",
              "      <td>MASCULINO</td>\n",
              "      <td>Adultos Mayores de 80 años</td>\n",
              "      <td>25FEB2021:13:00:00</td>\n",
              "    </tr>\n",
              "    <tr>\n",
              "      <th>4</th>\n",
              "      <td>Centro C. Recoleta</td>\n",
              "      <td>4</td>\n",
              "      <td>4</td>\n",
              "      <td>FEMENINO</td>\n",
              "      <td>Adultos Mayores de 80 años</td>\n",
              "      <td>01MAR2021:13:30:00</td>\n",
              "    </tr>\n",
              "    <tr>\n",
              "      <th>...</th>\n",
              "      <td>...</td>\n",
              "      <td>...</td>\n",
              "      <td>...</td>\n",
              "      <td>...</td>\n",
              "      <td>...</td>\n",
              "      <td>...</td>\n",
              "    </tr>\n",
              "    <tr>\n",
              "      <th>1925040</th>\n",
              "      <td>Casa del Historiador</td>\n",
              "      <td>1925040</td>\n",
              "      <td>1925040</td>\n",
              "      <td>FEMENINO</td>\n",
              "      <td>Adultos Mayores de 80 años</td>\n",
              "      <td>23FEB2021:15:45:00</td>\n",
              "    </tr>\n",
              "    <tr>\n",
              "      <th>1925041</th>\n",
              "      <td>La Rural</td>\n",
              "      <td>1925041</td>\n",
              "      <td>1925041</td>\n",
              "      <td>MASCULINO</td>\n",
              "      <td>Adultos Mayores de 80 años</td>\n",
              "      <td>02MAR2021:15:00:00</td>\n",
              "    </tr>\n",
              "    <tr>\n",
              "      <th>1925042</th>\n",
              "      <td>Club Glorias Argentinas</td>\n",
              "      <td>1925042</td>\n",
              "      <td>1925042</td>\n",
              "      <td>FEMENINO</td>\n",
              "      <td>Adultos Mayores de 80 años</td>\n",
              "      <td>25FEB2021:13:30:00</td>\n",
              "    </tr>\n",
              "    <tr>\n",
              "      <th>1925043</th>\n",
              "      <td>Centro de Dia N9 y 13</td>\n",
              "      <td>1925043</td>\n",
              "      <td>1925043</td>\n",
              "      <td>MASCULINO</td>\n",
              "      <td>Adultos Mayores de 80 años</td>\n",
              "      <td>25FEB2021:08:15:00</td>\n",
              "    </tr>\n",
              "    <tr>\n",
              "      <th>1925044</th>\n",
              "      <td>Club San Lorenzo</td>\n",
              "      <td>1925044</td>\n",
              "      <td>1925044</td>\n",
              "      <td>FEMENINO</td>\n",
              "      <td>Adultos Mayores de 80 años</td>\n",
              "      <td>26FEB2021:11:30:00</td>\n",
              "    </tr>\n",
              "  </tbody>\n",
              "</table>\n",
              "<p>1925045 rows × 6 columns</p>\n",
              "</div>"
            ],
            "text/plain": [
              "                                   sede  ...               fecha\n",
              "0                       Centro Islámico  ...  01MAR2021:11:15:00\n",
              "1                            Club Ferro  ...  02MAR2021:09:00:00\n",
              "2                              La Rural  ...  01MAR2021:13:30:00\n",
              "3        Centro de día Parque Chacabuco  ...  25FEB2021:13:00:00\n",
              "4                    Centro C. Recoleta  ...  01MAR2021:13:30:00\n",
              "...                                 ...  ...                 ...\n",
              "1925040            Casa del Historiador  ...  23FEB2021:15:45:00\n",
              "1925041                        La Rural  ...  02MAR2021:15:00:00\n",
              "1925042         Club Glorias Argentinas  ...  25FEB2021:13:30:00\n",
              "1925043           Centro de Dia N9 y 13  ...  25FEB2021:08:15:00\n",
              "1925044                Club San Lorenzo  ...  26FEB2021:11:30:00\n",
              "\n",
              "[1925045 rows x 6 columns]"
            ]
          },
          "metadata": {},
          "execution_count": 36
        }
      ]
    },
    {
      "cell_type": "code",
      "metadata": {
        "colab": {
          "base_uri": "https://localhost:8080/"
        },
        "id": "yyCJYU8Io86q",
        "outputId": "1b5bcb70-b884-47a7-becf-d81c3e610445"
      },
      "source": [
        "#______________________________________________________________\n",
        "# Comando groupby\n",
        "turnos.groupby(['sede']).size()"
      ],
      "execution_count": null,
      "outputs": [
        {
          "output_type": "execute_result",
          "data": {
            "text/plain": [
              "sede\n",
              "Asociación Corredores Turismo Carretera                     9002\n",
              "CEMAR                                                       2974\n",
              "Casa del Historiador                                       31473\n",
              "Centro C. Recoleta                                         69168\n",
              "Centro Cultural Centeya                                    20019\n",
              "Centro Cultural El Adan                                    21973\n",
              "Centro Islámico                                            76093\n",
              "Centro de Dia N9 y 13                                      12078\n",
              "Centro de día Parque Chacabuco                               780\n",
              "Club Atlanta                                                3437\n",
              "Club Atlético Boca Juniors                                 16567\n",
              "Club Comunicaciones                                        51846\n",
              "Club Ferro                                                  7282\n",
              "Club Glorias Argentinas                                    14603\n",
              "Club Huracan                                               15890\n",
              "Club Italiano                                              26348\n",
              "Club Mitre                                                 12576\n",
              "Club Racing Villa del Parque                               51568\n",
              "Club River Plate                                          142751\n",
              "Club San Lorenzo                                          264616\n",
              "Club Sin Rumbo                                             10914\n",
              "Corralón Floresta                                          29603\n",
              "Costa Salguero (Vehicular)                                 18908\n",
              "Estadio Luna Park                                         196126\n",
              "FATSA                                                       1552\n",
              "Fundacion Pardes                                           16170\n",
              "Hospital General de Agudos D. Velez Sarsfield                870\n",
              "Hospital General de Agudos Donación F. Santojanni           1307\n",
              "Hospital General de Agudos Dr. C. Argerich                  2188\n",
              "Hospital General de Agudos Dr. C. Durand                    1520\n",
              "Hospital General de Agudos J. M. Ramos Mejía                3370\n",
              "La Rural                                                  215748\n",
              "Local Papa Francisco                                        1040\n",
              "Ministerio de Desarrollo Humano y Hábitat                   1491\n",
              "Ministerio de Educación (Perette y calle 10)                 975\n",
              "Ministerio de Salud                                        27020\n",
              "Movistar Arena                                             82593\n",
              "Oficina Escout                                              3678\n",
              "PAMI - Agencia 3                                           30898\n",
              "PAMI - Centro de Promoción Prevención y Rehabilitación     30996\n",
              "PAMI - Centro de Promoción y Prevención                    31020\n",
              "PAMI - Facultad de Medicina                                12773\n",
              "Parque Roca                                               181980\n",
              "Parque de la Estación                                      16523\n",
              "San Lorenzo - Estadio                                       2426\n",
              "Sede OSCOEMA                                               16686\n",
              "Teatro San Martín                                          17296\n",
              "Todos Unidos Centro de Jubilados                           14288\n",
              "Usina del Arte                                             91415\n",
              "VELEZ (BIBLIOTECA)                                         12627\n",
              "dtype: int64"
            ]
          },
          "metadata": {},
          "execution_count": 37
        }
      ]
    },
    {
      "cell_type": "code",
      "metadata": {
        "colab": {
          "base_uri": "https://localhost:8080/"
        },
        "id": "Pzhswdzlp4ox",
        "outputId": "1cd1116d-1a68-498b-de6f-a8526e0406b0"
      },
      "source": [
        "turnos.groupby(['sede']).size().sort_values(ascending=False)"
      ],
      "execution_count": null,
      "outputs": [
        {
          "output_type": "execute_result",
          "data": {
            "text/plain": [
              "sede\n",
              "Club San Lorenzo                                          264616\n",
              "La Rural                                                  215748\n",
              "Estadio Luna Park                                         196126\n",
              "Parque Roca                                               181980\n",
              "Club River Plate                                          142751\n",
              "Usina del Arte                                             91415\n",
              "Movistar Arena                                             82593\n",
              "Centro Islámico                                            76093\n",
              "Centro C. Recoleta                                         69168\n",
              "Club Comunicaciones                                        51846\n",
              "Club Racing Villa del Parque                               51568\n",
              "Casa del Historiador                                       31473\n",
              "PAMI - Centro de Promoción y Prevención                    31020\n",
              "PAMI - Centro de Promoción Prevención y Rehabilitación     30996\n",
              "PAMI - Agencia 3                                           30898\n",
              "Corralón Floresta                                          29603\n",
              "Ministerio de Salud                                        27020\n",
              "Club Italiano                                              26348\n",
              "Centro Cultural El Adan                                    21973\n",
              "Centro Cultural Centeya                                    20019\n",
              "Costa Salguero (Vehicular)                                 18908\n",
              "Teatro San Martín                                          17296\n",
              "Sede OSCOEMA                                               16686\n",
              "Club Atlético Boca Juniors                                 16567\n",
              "Parque de la Estación                                      16523\n",
              "Fundacion Pardes                                           16170\n",
              "Club Huracan                                               15890\n",
              "Club Glorias Argentinas                                    14603\n",
              "Todos Unidos Centro de Jubilados                           14288\n",
              "PAMI - Facultad de Medicina                                12773\n",
              "VELEZ (BIBLIOTECA)                                         12627\n",
              "Club Mitre                                                 12576\n",
              "Centro de Dia N9 y 13                                      12078\n",
              "Club Sin Rumbo                                             10914\n",
              "Asociación Corredores Turismo Carretera                     9002\n",
              "Club Ferro                                                  7282\n",
              "Oficina Escout                                              3678\n",
              "Club Atlanta                                                3437\n",
              "Hospital General de Agudos J. M. Ramos Mejía                3370\n",
              "CEMAR                                                       2974\n",
              "San Lorenzo - Estadio                                       2426\n",
              "Hospital General de Agudos Dr. C. Argerich                  2188\n",
              "FATSA                                                       1552\n",
              "Hospital General de Agudos Dr. C. Durand                    1520\n",
              "Ministerio de Desarrollo Humano y Hábitat                   1491\n",
              "Hospital General de Agudos Donación F. Santojanni           1307\n",
              "Local Papa Francisco                                        1040\n",
              "Ministerio de Educación (Perette y calle 10)                 975\n",
              "Hospital General de Agudos D. Velez Sarsfield                870\n",
              "Centro de día Parque Chacabuco                               780\n",
              "dtype: int64"
            ]
          },
          "metadata": {},
          "execution_count": 38
        }
      ]
    },
    {
      "cell_type": "code",
      "metadata": {
        "colab": {
          "base_uri": "https://localhost:8080/"
        },
        "id": "Zy3oMgTbqNlL",
        "outputId": "b78bbe81-18ca-480f-a630-45ff662c0e6b"
      },
      "source": [
        "turnos.groupby(['sede','genero']).size()"
      ],
      "execution_count": null,
      "outputs": [
        {
          "output_type": "execute_result",
          "data": {
            "text/plain": [
              "sede                                     genero   \n",
              "Asociación Corredores Turismo Carretera  FEMENINO      4728\n",
              "                                         MASCULINO     4274\n",
              "CEMAR                                    FEMENINO      1833\n",
              "                                         MASCULINO     1137\n",
              "                                         OTROS            4\n",
              "                                                      ...  \n",
              "Usina del Arte                           FEMENINO     50382\n",
              "                                         MASCULINO    41026\n",
              "                                         OTROS            7\n",
              "VELEZ (BIBLIOTECA)                       FEMENINO      7302\n",
              "                                         MASCULINO     5325\n",
              "Length: 131, dtype: int64"
            ]
          },
          "metadata": {},
          "execution_count": 39
        }
      ]
    },
    {
      "cell_type": "code",
      "metadata": {
        "colab": {
          "base_uri": "https://localhost:8080/"
        },
        "id": "imdrdcj5qtYi",
        "outputId": "f0802b38-e9b3-4883-a9ed-18f434e018cc"
      },
      "source": [
        "turnos.groupby(['genero','sede','servicio']).size()"
      ],
      "execution_count": null,
      "outputs": [
        {
          "output_type": "execute_result",
          "data": {
            "text/plain": [
              "genero    sede                                     servicio                                            \n",
              "FEMENINO  Asociación Corredores Turismo Carretera  Adultos Mayores de 18 años                              2604\n",
              "                                                   Adultos Mayores de 60 años                               439\n",
              "                                                   Adultos Mayores de 65 años                                 2\n",
              "                                                   Adultos Mayores de 75 años                                 3\n",
              "                                                   Adultos Menores de 60 años con condiciones de riesgo     745\n",
              "                                                                                                           ... \n",
              "OTROS     Sede OSCOEMA                             Adultos Mayores de 80 años                                 2\n",
              "                                                   Personal de Salud                                          1\n",
              "          Usina del Arte                           Adultos Mayores de 80 años                                 1\n",
              "                                                   Docentes y No Docentes                                     5\n",
              "                                                   Personal de Salud                                          1\n",
              "Length: 972, dtype: int64"
            ]
          },
          "metadata": {},
          "execution_count": 40
        }
      ]
    },
    {
      "cell_type": "code",
      "metadata": {
        "colab": {
          "base_uri": "https://localhost:8080/",
          "height": 235
        },
        "id": "QEV_SkmErkWQ",
        "outputId": "437bfa2f-5376-4e30-ea1b-d5796e1d869e"
      },
      "source": [
        "#______________________________________________________________\n",
        "# Comando ILOC (filtro por indices)\n",
        "# Posicion de filas y posicion de columnas\n",
        "turnos.iloc[10:16, 1:3]"
      ],
      "execution_count": null,
      "outputs": [
        {
          "output_type": "execute_result",
          "data": {
            "text/html": [
              "<div>\n",
              "<style scoped>\n",
              "    .dataframe tbody tr th:only-of-type {\n",
              "        vertical-align: middle;\n",
              "    }\n",
              "\n",
              "    .dataframe tbody tr th {\n",
              "        vertical-align: top;\n",
              "    }\n",
              "\n",
              "    .dataframe thead th {\n",
              "        text-align: right;\n",
              "    }\n",
              "</style>\n",
              "<table border=\"1\" class=\"dataframe\">\n",
              "  <thead>\n",
              "    <tr style=\"text-align: right;\">\n",
              "      <th></th>\n",
              "      <th>level_0</th>\n",
              "      <th>index</th>\n",
              "    </tr>\n",
              "  </thead>\n",
              "  <tbody>\n",
              "    <tr>\n",
              "      <th>10</th>\n",
              "      <td>10</td>\n",
              "      <td>10</td>\n",
              "    </tr>\n",
              "    <tr>\n",
              "      <th>11</th>\n",
              "      <td>11</td>\n",
              "      <td>11</td>\n",
              "    </tr>\n",
              "    <tr>\n",
              "      <th>12</th>\n",
              "      <td>12</td>\n",
              "      <td>12</td>\n",
              "    </tr>\n",
              "    <tr>\n",
              "      <th>13</th>\n",
              "      <td>13</td>\n",
              "      <td>13</td>\n",
              "    </tr>\n",
              "    <tr>\n",
              "      <th>14</th>\n",
              "      <td>14</td>\n",
              "      <td>14</td>\n",
              "    </tr>\n",
              "    <tr>\n",
              "      <th>15</th>\n",
              "      <td>15</td>\n",
              "      <td>15</td>\n",
              "    </tr>\n",
              "  </tbody>\n",
              "</table>\n",
              "</div>"
            ],
            "text/plain": [
              "    level_0  index\n",
              "10       10     10\n",
              "11       11     11\n",
              "12       12     12\n",
              "13       13     13\n",
              "14       14     14\n",
              "15       15     15"
            ]
          },
          "metadata": {},
          "execution_count": 41
        }
      ]
    },
    {
      "cell_type": "code",
      "metadata": {
        "id": "Z8YQG4phTG_6"
      },
      "source": [
        "#_______________________________________________________________________________\n",
        "# GRAFICOS\n",
        "import numpy as np\n",
        "import matplotlib.pyplot as plt"
      ],
      "execution_count": null,
      "outputs": []
    },
    {
      "cell_type": "code",
      "metadata": {
        "id": "QY_kVSJETcap"
      },
      "source": [
        "datos_subte = pd.read_csv(\"/drive/MyDrive/Datos_Para_Clases/subte_trx_promedio_por_estacion_dia_hora.csv\")"
      ],
      "execution_count": null,
      "outputs": []
    },
    {
      "cell_type": "code",
      "metadata": {
        "colab": {
          "base_uri": "https://localhost:8080/",
          "height": 419
        },
        "id": "d_yW6me0T6B3",
        "outputId": "8bef75f9-74e9-461b-943a-33a16f8ffa97"
      },
      "source": [
        "datos_subte"
      ],
      "execution_count": null,
      "outputs": [
        {
          "output_type": "execute_result",
          "data": {
            "text/html": [
              "<div>\n",
              "<style scoped>\n",
              "    .dataframe tbody tr th:only-of-type {\n",
              "        vertical-align: middle;\n",
              "    }\n",
              "\n",
              "    .dataframe tbody tr th {\n",
              "        vertical-align: top;\n",
              "    }\n",
              "\n",
              "    .dataframe thead th {\n",
              "        text-align: right;\n",
              "    }\n",
              "</style>\n",
              "<table border=\"1\" class=\"dataframe\">\n",
              "  <thead>\n",
              "    <tr style=\"text-align: right;\">\n",
              "      <th></th>\n",
              "      <th>dia_de_semana</th>\n",
              "      <th>hora</th>\n",
              "      <th>linea</th>\n",
              "      <th>estacion</th>\n",
              "      <th>trx_totales</th>\n",
              "    </tr>\n",
              "  </thead>\n",
              "  <tbody>\n",
              "    <tr>\n",
              "      <th>0</th>\n",
              "      <td>False</td>\n",
              "      <td>0</td>\n",
              "      <td>A</td>\n",
              "      <td>ALBERTI</td>\n",
              "      <td>3.0</td>\n",
              "    </tr>\n",
              "    <tr>\n",
              "      <th>1</th>\n",
              "      <td>False</td>\n",
              "      <td>0</td>\n",
              "      <td>A</td>\n",
              "      <td>CASTRO BARROS</td>\n",
              "      <td>1.0</td>\n",
              "    </tr>\n",
              "    <tr>\n",
              "      <th>2</th>\n",
              "      <td>False</td>\n",
              "      <td>0</td>\n",
              "      <td>A</td>\n",
              "      <td>CONGRESO</td>\n",
              "      <td>7.0</td>\n",
              "    </tr>\n",
              "    <tr>\n",
              "      <th>3</th>\n",
              "      <td>False</td>\n",
              "      <td>0</td>\n",
              "      <td>A</td>\n",
              "      <td>FLORES</td>\n",
              "      <td>3.0</td>\n",
              "    </tr>\n",
              "    <tr>\n",
              "      <th>4</th>\n",
              "      <td>False</td>\n",
              "      <td>0</td>\n",
              "      <td>A</td>\n",
              "      <td>LIMA</td>\n",
              "      <td>3.0</td>\n",
              "    </tr>\n",
              "    <tr>\n",
              "      <th>...</th>\n",
              "      <td>...</td>\n",
              "      <td>...</td>\n",
              "      <td>...</td>\n",
              "      <td>...</td>\n",
              "      <td>...</td>\n",
              "    </tr>\n",
              "    <tr>\n",
              "      <th>3638</th>\n",
              "      <td>True</td>\n",
              "      <td>23</td>\n",
              "      <td>H</td>\n",
              "      <td>LAS HERAS</td>\n",
              "      <td>1489.0</td>\n",
              "    </tr>\n",
              "    <tr>\n",
              "      <th>3639</th>\n",
              "      <td>True</td>\n",
              "      <td>23</td>\n",
              "      <td>H</td>\n",
              "      <td>ONCE</td>\n",
              "      <td>933.0</td>\n",
              "    </tr>\n",
              "    <tr>\n",
              "      <th>3640</th>\n",
              "      <td>True</td>\n",
              "      <td>23</td>\n",
              "      <td>H</td>\n",
              "      <td>PATRICIOS</td>\n",
              "      <td>676.0</td>\n",
              "    </tr>\n",
              "    <tr>\n",
              "      <th>3641</th>\n",
              "      <td>True</td>\n",
              "      <td>23</td>\n",
              "      <td>H</td>\n",
              "      <td>SANTA FE</td>\n",
              "      <td>1011.0</td>\n",
              "    </tr>\n",
              "    <tr>\n",
              "      <th>3642</th>\n",
              "      <td>True</td>\n",
              "      <td>23</td>\n",
              "      <td>H</td>\n",
              "      <td>VENEZUELA</td>\n",
              "      <td>340.0</td>\n",
              "    </tr>\n",
              "  </tbody>\n",
              "</table>\n",
              "<p>3643 rows × 5 columns</p>\n",
              "</div>"
            ],
            "text/plain": [
              "      dia_de_semana  hora linea       estacion  trx_totales\n",
              "0             False     0     A        ALBERTI          3.0\n",
              "1             False     0     A  CASTRO BARROS          1.0\n",
              "2             False     0     A       CONGRESO          7.0\n",
              "3             False     0     A         FLORES          3.0\n",
              "4             False     0     A           LIMA          3.0\n",
              "...             ...   ...   ...            ...          ...\n",
              "3638           True    23     H      LAS HERAS       1489.0\n",
              "3639           True    23     H           ONCE        933.0\n",
              "3640           True    23     H      PATRICIOS        676.0\n",
              "3641           True    23     H       SANTA FE       1011.0\n",
              "3642           True    23     H      VENEZUELA        340.0\n",
              "\n",
              "[3643 rows x 5 columns]"
            ]
          },
          "metadata": {},
          "execution_count": 45
        }
      ]
    },
    {
      "cell_type": "code",
      "metadata": {
        "colab": {
          "base_uri": "https://localhost:8080/",
          "height": 282
        },
        "id": "EEf5cKzgUT-M",
        "outputId": "f5b93d4b-09b4-4e13-f89b-31856e93a282"
      },
      "source": [
        "datos_subte.plot()"
      ],
      "execution_count": null,
      "outputs": [
        {
          "output_type": "execute_result",
          "data": {
            "text/plain": [
              "<matplotlib.axes._subplots.AxesSubplot at 0x7fc2fcb8c710>"
            ]
          },
          "metadata": {},
          "execution_count": 46
        },
        {
          "output_type": "display_data",
          "data": {
            "image/png": "[encoded data removed]",
            "text/plain": [
              "<Figure size 432x288 with 1 Axes>"
            ]
          },
          "metadata": {
            "needs_background": "light"
          }
        }
      ]
    },
    {
      "cell_type": "code",
      "metadata": {
        "colab": {
          "base_uri": "https://localhost:8080/",
          "height": 312
        },
        "id": "q2jzZWDJUm0R",
        "outputId": "2ff6acce-22e1-454d-e334-9559f7c182c0"
      },
      "source": [
        "# 1ro: Le doy un nombre a la figura (se llama figura)\n",
        "# Está compuesta por 2 graficos en un renglon (nrows) dividido en 2 columnas (ncols)\n",
        "figura, (grafico1, grafico2) = plt.subplots(nrows=1, ncols=2)\n",
        "# 2do: Agrego contenido a los graficos\n",
        "grafico1.boxplot(datos_subte.trx_totales, showfliers = False)\n",
        "datos_subte.trx_totales.plot(kind = 'kde', ax=grafico2)\n",
        "\n",
        "# Declaro titulo y subtitulo\n",
        "figura.suptitle(\"Grafico 1 del curso\")\n",
        "\n",
        "grafico1.set_title(\"Gráfico 1\")\n",
        "grafico2.set_title(\"Gráfico 2\")\n",
        "\n",
        "# Elimino bordes de los graficos:\n",
        "grafico1.spines['top'].set_visible(False)\n",
        "grafico1.spines['bottom'].set_visible(False)\n",
        "grafico1.spines['left'].set_visible(False)\n",
        "grafico1.spines['right'].set_visible(True)\n",
        "\n",
        "# Agrego leyendas horizontales y verticales\n",
        "grafico1.set_ylabel(\"Cantidad de usuarios\")\n",
        "\n",
        "\n",
        "; \n",
        "#Con el punto y coma limpio informacion que sale en la pantalla, arriba del grafico"
      ],
      "execution_count": null,
      "outputs": [
        {
          "output_type": "execute_result",
          "data": {
            "application/vnd.google.colaboratory.intrinsic+json": {
              "type": "string"
            },
            "text/plain": [
              "''"
            ]
          },
          "metadata": {},
          "execution_count": 63
        },
        {
          "output_type": "display_data",
          "data": {
            "image/png": "[encoded data removed]",
            "text/plain": [
              "<Figure size 432x288 with 2 Axes>"
            ]
          },
          "metadata": {
            "needs_background": "light"
          }
        }
      ]
    },
    {
      "cell_type": "code",
      "metadata": {
        "colab": {
          "base_uri": "https://localhost:8080/",
          "height": 297
        },
        "id": "_HUaMr5fY2OW",
        "outputId": "83d99e20-70d7-4409-c181-385ace72afb3"
      },
      "source": [
        "# Datos estadisticos generales (toma los valores numericos de la tabla)\n",
        "datos_subte.describe()"
      ],
      "execution_count": null,
      "outputs": [
        {
          "output_type": "execute_result",
          "data": {
            "text/html": [
              "<div>\n",
              "<style scoped>\n",
              "    .dataframe tbody tr th:only-of-type {\n",
              "        vertical-align: middle;\n",
              "    }\n",
              "\n",
              "    .dataframe tbody tr th {\n",
              "        vertical-align: top;\n",
              "    }\n",
              "\n",
              "    .dataframe thead th {\n",
              "        text-align: right;\n",
              "    }\n",
              "</style>\n",
              "<table border=\"1\" class=\"dataframe\">\n",
              "  <thead>\n",
              "    <tr style=\"text-align: right;\">\n",
              "      <th></th>\n",
              "      <th>hora</th>\n",
              "      <th>trx_totales</th>\n",
              "    </tr>\n",
              "  </thead>\n",
              "  <tbody>\n",
              "    <tr>\n",
              "      <th>count</th>\n",
              "      <td>3643.000000</td>\n",
              "      <td>3643.000000</td>\n",
              "    </tr>\n",
              "    <tr>\n",
              "      <th>mean</th>\n",
              "      <td>13.237716</td>\n",
              "      <td>8922.122976</td>\n",
              "    </tr>\n",
              "    <tr>\n",
              "      <th>std</th>\n",
              "      <td>6.102235</td>\n",
              "      <td>16245.549926</td>\n",
              "    </tr>\n",
              "    <tr>\n",
              "      <th>min</th>\n",
              "      <td>0.000000</td>\n",
              "      <td>1.000000</td>\n",
              "    </tr>\n",
              "    <tr>\n",
              "      <th>25%</th>\n",
              "      <td>8.000000</td>\n",
              "      <td>723.000000</td>\n",
              "    </tr>\n",
              "    <tr>\n",
              "      <th>50%</th>\n",
              "      <td>13.000000</td>\n",
              "      <td>2632.000000</td>\n",
              "    </tr>\n",
              "    <tr>\n",
              "      <th>75%</th>\n",
              "      <td>18.000000</td>\n",
              "      <td>11081.500000</td>\n",
              "    </tr>\n",
              "    <tr>\n",
              "      <th>max</th>\n",
              "      <td>23.000000</td>\n",
              "      <td>316501.000000</td>\n",
              "    </tr>\n",
              "  </tbody>\n",
              "</table>\n",
              "</div>"
            ],
            "text/plain": [
              "              hora    trx_totales\n",
              "count  3643.000000    3643.000000\n",
              "mean     13.237716    8922.122976\n",
              "std       6.102235   16245.549926\n",
              "min       0.000000       1.000000\n",
              "25%       8.000000     723.000000\n",
              "50%      13.000000    2632.000000\n",
              "75%      18.000000   11081.500000\n",
              "max      23.000000  316501.000000"
            ]
          },
          "metadata": {},
          "execution_count": 67
        }
      ]
    },
    {
      "cell_type": "code",
      "metadata": {
        "id": "bzmTAN02ZeYA"
      },
      "source": [
        "estadisticos = datos_subte.trx_totales.describe()"
      ],
      "execution_count": null,
      "outputs": []
    },
    {
      "cell_type": "code",
      "metadata": {
        "colab": {
          "base_uri": "https://localhost:8080/"
        },
        "id": "NI5Ia_wjZnD7",
        "outputId": "49c6846b-f3ee-4893-94c8-3411aad45756"
      },
      "source": [
        "estadisticos"
      ],
      "execution_count": null,
      "outputs": [
        {
          "output_type": "execute_result",
          "data": {
            "text/plain": [
              "count      3643.000000\n",
              "mean       8922.122976\n",
              "std       16245.549926\n",
              "min           1.000000\n",
              "25%         723.000000\n",
              "50%        2632.000000\n",
              "75%       11081.500000\n",
              "max      316501.000000\n",
              "Name: trx_totales, dtype: float64"
            ]
          },
          "metadata": {},
          "execution_count": 69
        }
      ]
    },
    {
      "cell_type": "code",
      "metadata": {
        "colab": {
          "base_uri": "https://localhost:8080/",
          "height": 634
        },
        "id": "_BeqwQ9MZsT3",
        "outputId": "fe8baefa-2550-4b9b-eb15-9046e168a93d"
      },
      "source": [
        "figura, (g11) = plt.subplots(nrows=1, ncols=1, figsize=(10,10))\n",
        "\n",
        "datos_subte.trx_totales.plot(kind='kde', ax=g11, legend=None)\n",
        "\n",
        "#Titulo eje x\n",
        "g11.set_xlabel('Densidad de viajes')\n",
        "\n",
        "#Saco Bordes\n",
        "g11.spines['top'].set_visible(False)\n",
        "g11.spines['bottom'].set_visible(False)\n",
        "g11.spines['left'].set_visible(False)\n",
        "g11.spines['right'].set_visible(False)\n",
        "\n",
        "#Modifico escala\n",
        "g11.set_xlim(0,20000)\n",
        "\n",
        "# Grafico diferentes valores\n",
        "promedio = g11.axvline(estadisticos['mean'], linestyle='--', color='red', linewidth=1)\n",
        "mediana = g11.axvline(estadisticos['50%'], linestyle=':', color='green', linewidth=3)\n",
        "g11.legend((promedio, mediana), ('Promedio','Mediana'))\n",
        "\n",
        ";"
      ],
      "execution_count": null,
      "outputs": [
        {
          "output_type": "execute_result",
          "data": {
            "application/vnd.google.colaboratory.intrinsic+json": {
              "type": "string"
            },
            "text/plain": [
              "''"
            ]
          },
          "metadata": {},
          "execution_count": 88
        },
        {
          "output_type": "display_data",
          "data": {
            "image/png": "[encoded data removed]",
            "text/plain": [
              "<Figure size 720x720 with 1 Axes>"
            ]
          },
          "metadata": {
            "needs_background": "light"
          }
        }
      ]
    },
    {
      "cell_type": "code",
      "metadata": {
        "colab": {
          "base_uri": "https://localhost:8080/"
        },
        "id": "tqeW-zPUdS8x",
        "outputId": "2d114700-1eb0-4979-ea0f-3ecf1642b1d4"
      },
      "source": [
        "# Cuento los viajes en dias de semana (saco la media)\n",
        "datos_subte.groupby('dia_de_semana').size()"
      ],
      "execution_count": null,
      "outputs": [
        {
          "output_type": "execute_result",
          "data": {
            "text/plain": [
              "dia_de_semana\n",
              "False    1804\n",
              "True     1839\n",
              "dtype: int64"
            ]
          },
          "metadata": {},
          "execution_count": 94
        }
      ]
    },
    {
      "cell_type": "code",
      "metadata": {
        "id": "6T1Ggvoyd8te"
      },
      "source": [
        "datosPorDiaHabil = datos_subte.groupby('dia_de_semana').mean()"
      ],
      "execution_count": null,
      "outputs": []
    },
    {
      "cell_type": "code",
      "metadata": {
        "colab": {
          "base_uri": "https://localhost:8080/",
          "height": 142
        },
        "id": "eDWSTQgUeEA0",
        "outputId": "a438eb33-c9a2-4977-d892-01b94ea67432"
      },
      "source": [
        "datosPorDiaHabil"
      ],
      "execution_count": null,
      "outputs": [
        {
          "output_type": "execute_result",
          "data": {
            "text/html": [
              "<div>\n",
              "<style scoped>\n",
              "    .dataframe tbody tr th:only-of-type {\n",
              "        vertical-align: middle;\n",
              "    }\n",
              "\n",
              "    .dataframe tbody tr th {\n",
              "        vertical-align: top;\n",
              "    }\n",
              "\n",
              "    .dataframe thead th {\n",
              "        text-align: right;\n",
              "    }\n",
              "</style>\n",
              "<table border=\"1\" class=\"dataframe\">\n",
              "  <thead>\n",
              "    <tr style=\"text-align: right;\">\n",
              "      <th></th>\n",
              "      <th>hora</th>\n",
              "      <th>trx_totales</th>\n",
              "    </tr>\n",
              "    <tr>\n",
              "      <th>dia_de_semana</th>\n",
              "      <th></th>\n",
              "      <th></th>\n",
              "    </tr>\n",
              "  </thead>\n",
              "  <tbody>\n",
              "    <tr>\n",
              "      <th>False</th>\n",
              "      <td>13.328714</td>\n",
              "      <td>1752.490576</td>\n",
              "    </tr>\n",
              "    <tr>\n",
              "      <th>True</th>\n",
              "      <td>13.148450</td>\n",
              "      <td>15955.302338</td>\n",
              "    </tr>\n",
              "  </tbody>\n",
              "</table>\n",
              "</div>"
            ],
            "text/plain": [
              "                    hora   trx_totales\n",
              "dia_de_semana                         \n",
              "False          13.328714   1752.490576\n",
              "True           13.148450  15955.302338"
            ]
          },
          "metadata": {},
          "execution_count": 99
        }
      ]
    },
    {
      "cell_type": "code",
      "metadata": {
        "colab": {
          "base_uri": "https://localhost:8080/",
          "height": 312
        },
        "id": "EM8pzXr7eqmQ",
        "outputId": "9c60d4fc-405c-4ea6-bcf8-ec497660337e"
      },
      "source": [
        "datosPorDiaHabil.plot(kind='bar')"
      ],
      "execution_count": null,
      "outputs": [
        {
          "output_type": "execute_result",
          "data": {
            "text/plain": [
              "<matplotlib.axes._subplots.AxesSubplot at 0x7fc2de34cbd0>"
            ]
          },
          "metadata": {},
          "execution_count": 100
        },
        {
          "output_type": "display_data",
          "data": {
            "image/png": "[encoded data removed]",
            "text/plain": [
              "<Figure size 432x288 with 1 Axes>"
            ]
          },
          "metadata": {
            "needs_background": "light"
          }
        }
      ]
    },
    {
      "cell_type": "code",
      "metadata": {
        "id": "z_OxloB6e91R"
      },
      "source": [
        "# SEABORN - Otra forma de graficar\n",
        "import seaborn as sns\n",
        "sns.set_theme(style=\"ticks\") #Elijo colores"
      ],
      "execution_count": null,
      "outputs": []
    },
    {
      "cell_type": "code",
      "metadata": {
        "colab": {
          "base_uri": "https://localhost:8080/",
          "height": 303
        },
        "id": "DG_G5jwHf23K",
        "outputId": "4cd75fbd-bb94-4919-eec8-707cd51669d2"
      },
      "source": [
        "# Elijo lo que va en los ejes, y de donde saco los datos\n",
        "sns.barplot(x='trx_totales', y='linea', data=datos_subte)\n",
        ";"
      ],
      "execution_count": null,
      "outputs": [
        {
          "output_type": "execute_result",
          "data": {
            "application/vnd.google.colaboratory.intrinsic+json": {
              "type": "string"
            },
            "text/plain": [
              "''"
            ]
          },
          "metadata": {},
          "execution_count": 105
        },
        {
          "output_type": "display_data",
          "data": {
            "image/png": "[encoded data removed]",
            "text/plain": [
              "<Figure size 432x288 with 1 Axes>"
            ]
          },
          "metadata": {}
        }
      ]
    },
    {
      "cell_type": "code",
      "metadata": {
        "colab": {
          "base_uri": "https://localhost:8080/",
          "height": 414
        },
        "id": "IlHqUK4ugxMT",
        "outputId": "92e80da9-2605-49bc-dea6-95656f78dedd"
      },
      "source": [
        "#Otro ejemplo\n",
        "fig,ax = plt.subplots(figsize=(8,6))\n",
        "sns.barplot(x='trx_totales', y='linea', data=datos_subte, ax=ax, estimator=np.median);\n",
        "ax.set_xlabel(u'Viajes por estacion')\n",
        "ax.set_ylabel(u'Linea')\n",
        "\n",
        "ax.set_title(u'Viajes promedio por estacion de subte', fontdict={'fontsize':18})\n",
        "\n",
        "ax.spines['top'].set_visible(False)\n",
        "ax.spines['bottom'].set_visible(False)\n",
        "ax.spines['left'].set_visible(False)\n",
        "ax.spines['right'].set_visible(False)"
      ],
      "execution_count": null,
      "outputs": [
        {
          "output_type": "display_data",
          "data": {
            "image/png": "[encoded data removed]",
            "text/plain": [
              "<Figure size 576x432 with 1 Axes>"
            ]
          },
          "metadata": {}
        }
      ]
    },
    {
      "cell_type": "code",
      "metadata": {
        "id": "lKkZMdF-hvsm"
      },
      "source": [
        "# Metodologia para graficar\n",
        "# 1: separar/ agrupar datos que se quieran analizar\n",
        "# 2: graficar esos datos"
      ],
      "execution_count": null,
      "outputs": []
    },
    {
      "cell_type": "markdown",
      "metadata": {
        "id": "oMVVwjkWiJk2"
      },
      "source": [
        "Trabajo a entregar para obtener certificado:\n",
        "\n",
        ".Leer juego de datos\n",
        "\n",
        ".Manipular datos, hacer algun filtro\n",
        "\n",
        ".Contar cantidad de ese filtro\n",
        "\n",
        ".Graficar"
      ]
    }
  ]
}